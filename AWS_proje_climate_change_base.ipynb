{
 "cells": [
  {
   "cell_type": "code",
   "execution_count": null,
   "id": "initial_id",
   "metadata": {
    "collapsed": true
   },
   "outputs": [],
   "source": [
    "########################## Library Importing and Settings ###########################\n",
    "import pandas as pd\n",
    "import numpy as np\n",
    "from sklearn.preprocessing import LabelEncoder\n",
    "from lightgbm import LGBMRegressor\n",
    "from sklearn.ensemble import RandomForestRegressor, GradientBoostingRegressor\n",
    "from sklearn.neighbors import KNeighborsRegressor\n",
    "from sklearn.tree import DecisionTreeRegressor\n",
    "from xgboost import XGBRegressor\n",
    "from sklearn.linear_model import LinearRegression\n",
    "from sklearn.model_selection import cross_val_score, GridSearchCV\n",
    "import joblib\n",
    "import boto3"
   ]
  },
  {
   "cell_type": "code",
   "execution_count": null,
   "outputs": [],
   "source": [
    "########################## Data Loading From Local  ###########################\n",
    "row_data = pd.read_csv(\"data.csv\")\n",
    "data = row_data.copy()\n",
    "data.head()\n",
    "data.columns = map(str.lower, data.columns)"
   ],
   "metadata": {
    "collapsed": false
   },
   "id": "212ee9c17a028a4d"
  },
  {
   "cell_type": "code",
   "execution_count": null,
   "outputs": [],
   "source": [
    "########################## AWS Process ###########################\n",
    "#s3_bucket = \"busonbucket\"\n",
    "#def upload_to_s3 (localpath, remotepath):\n",
    "#    boto3.client(\"s3\").upload_file(Filename=localpath, Bucket=s3_bucket, Key=remotepath)\n",
    "#def download_from_s3(localpath, remotepath):\n",
    "#    boto3.client(\"s3\").download_file(s3_bucket, remotepath, localpath)"
   ],
   "metadata": {
    "collapsed": false
   },
   "id": "405241f6a8276afe"
  },
  {
   "cell_type": "code",
   "execution_count": null,
   "outputs": [],
   "source": [
    "########################## Feature Engineering ###########################\n",
    "first_drop = [\"id\", \"year_factor\", \"max_wind_speed\",\n",
    "              \"days_with_fog\", \"direction_max_wind_speed\", \"direction_peak_wind_speed\",\n",
    "              \"cooling_degree_days\", \"heating_degree_days\", \"precipitation_inches\",\n",
    "              \"snowfall_inches\", \"snowdepth_inches\", \"days_below_20f\",\n",
    "              \"days_below_10f\", \"days_below_0f\", \"days_above_80f\",\n",
    "              \"days_above_100f\", \"days_above_110f\"]\n",
    "\n",
    "data.drop(columns = first_drop, inplace = True)\n",
    "data['year_built'] = data['year_built'].fillna(data.groupby('state_factor')['year_built'].transform('mean'))\n",
    "data[\"year_built\"] = data[\"year_built\"].astype(\"int\")\n",
    "data[\"build_age\"] = 2023 - data[\"year_built\"]\n",
    "data.drop(columns = \"year_built\", inplace = True)"
   ],
   "metadata": {
    "collapsed": false
   },
   "id": "881488f8d1d15ad9"
  },
  {
   "cell_type": "code",
   "execution_count": null,
   "outputs": [],
   "source": [
    "def get_manual_facility_groups():\n",
    "    facility_groups = {\n",
    "        \"Living_Space\": {\n",
    "            \"2to4_Unit_Building\",\n",
    "            \"5plus_Unit_Building\",\n",
    "            \"Mixed_Use_Predominantly_Residential\",\n",
    "            \"Multifamily_Uncategorized\",\n",
    "            \"Mixed_Use_Commercial_and_Residential\",\n",
    "            \"Mixed_Use_Predominantly_Commercial\",\n",
    "        },\n",
    "        \"Social_Institutions\": {\n",
    "            \"Education_College_or_university\",\n",
    "            \"Education_Other_classroom\",\n",
    "            \"Education_Preschool_or_daycare\",\n",
    "            \"Education_Uncategorized\",\n",
    "            \"Health_Care_Inpatient\",\n",
    "            \"Health_Care_Outpatient_Clinic\",\n",
    "            \"Health_Care_Outpatient_Uncategorized\",\n",
    "            \"Health_Care_Uncategorized\",\n",
    "            \"Nursing_Home\",\n",
    "            \"Religious_worship\"\n",
    "        },\n",
    "        \"Business_Commercial_Venues\": {\n",
    "            \"Commercial_Other\",\n",
    "            \"Commercial_Unknown\",\n",
    "            \"Industrial\",\n",
    "            \"Parking_Garage\",\n",
    "            \"Food_Sales\",\n",
    "            \"Food_Service_Other\",\n",
    "            \"Food_Service_Restaurant_or_cafeteria\",\n",
    "            \"Food_Service_Uncategorized\",\n",
    "            \"Grocery_store_or_food_market\",\n",
    "            \"Office_Bank_or_other_financial\",\n",
    "            \"Office_Medical_non_diagnostic\",\n",
    "            \"Office_Mixed_use\",\n",
    "            \"Office_Uncategorized\",\n",
    "            \"Retail_Enclosed_mall\",\n",
    "            \"Retail_Strip_shopping_mall\",\n",
    "            \"Retail_Uncategorized\",\n",
    "            \"Retail_Vehicle_dealership_showroom\",\n",
    "            \"Laboratory\",\n",
    "            \"Data_Center\",\n",
    "            \"Lodging_Dormitory_or_fraternity_sorority\",\n",
    "            \"Lodging_Hotel\",\n",
    "            \"Lodging_Other\",\n",
    "            \"Lodging_Uncategorized\",\n",
    "        },\n",
    "        \"Public\": {\n",
    "            \"Public_Assembly_Drama_theater\",\n",
    "            \"Public_Assembly_Entertainment_culture\",\n",
    "            \"Public_Assembly_Library\",\n",
    "            \"Public_Assembly_Movie_Theater\",\n",
    "            \"Public_Assembly_Other\",\n",
    "            \"Public_Assembly_Recreation\",\n",
    "            \"Public_Assembly_Social_meeting\",\n",
    "            \"Public_Assembly_Stadium\",\n",
    "            \"Public_Assembly_Uncategorized\",\n",
    "            \"Public_Safety_Courthouse\",\n",
    "            \"Public_Safety_Fire_or_police_station\",\n",
    "            \"Public_Safety_Penitentiary\",\n",
    "            \"Public_Safety_Uncategorized\",\n",
    "        },\n",
    "        \"Warehouse_Service\": {\n",
    "            \"Warehouse_Distribution_or_Shipping_center\",\n",
    "            \"Warehouse_Nonrefrigerated\",\n",
    "            \"Warehouse_Refrigerated\",\n",
    "            \"Warehouse_Selfstorage\",\n",
    "            \"Warehouse_Uncategorized\",\n",
    "            \"Service_Drycleaning_or_Laundry\",\n",
    "            \"Service_Uncategorized\",\n",
    "            \"Service_Vehicle_service_repair_shop\",\n",
    "        },\n",
    "    }\n",
    "\n",
    "    return facility_groups\n",
    "facility_groups = get_manual_facility_groups()\n",
    "data['category'] = data['facility_type'].apply(lambda x:\n",
    "                                               next((category for category, values in facility_groups.items()\n",
    "                                                     if x in values), None))"
   ],
   "metadata": {
    "collapsed": false
   },
   "id": "7096032516c14a9a"
  },
  {
   "cell_type": "code",
   "execution_count": null,
   "outputs": [],
   "source": [
    "#Missing Values\n",
    "data['energy_star_rating'] = data['energy_star_rating']. \\\n",
    "    fillna(data.groupby([\"state_factor\", \"category\"])['energy_star_rating'].\n",
    "           transform('median'))\n",
    "data['energy_star_rating'] = data['energy_star_rating'].fillna(data[\"energy_star_rating\"].median())"
   ],
   "metadata": {
    "collapsed": false
   },
   "id": "6fdb35fe05c854af"
  },
  {
   "cell_type": "code",
   "execution_count": null,
   "outputs": [],
   "source": [
    "data.drop(columns = [\"facility_type\", \"building_class\"], inplace = True)"
   ],
   "metadata": {
    "collapsed": false
   },
   "id": "548a021c3f6b210a"
  },
  {
   "cell_type": "code",
   "execution_count": null,
   "outputs": [],
   "source": [
    "temp_min_max = data.groupby(\"state_factor\")[\"january_min_temp\"].min().reset_index()\n",
    "for i in data.columns[6:41]:\n",
    "    if \"_min_\" in i:\n",
    "        temp_min_max[i + \"_for_state\"] = data.groupby(\"state_factor\")[i].min().values\n",
    "    elif \"_avg_\" in i:\n",
    "        temp_min_max[i + \"_for_state\"] = data.groupby(\"state_factor\")[i].mean().values\n",
    "    elif \"_max_\" in i:\n",
    "        temp_min_max[i + \"_for_state\"] = data.groupby(\"state_factor\")[i].max().values\n",
    "\n",
    "temp_min_max.head(2)\n",
    "temp_min_max[\"min_temp_for_state\"] = temp_min_max.iloc[:, 1:].min(axis = 1)\n",
    "temp_min_max[\"max_temp_for_state\"] = temp_min_max.iloc[:, 1:].max(axis = 1)\n",
    "\n",
    "data = pd.merge(data,\n",
    "                temp_min_max[[\"state_factor\", \"min_temp_for_state\", \"max_temp_for_state\"]],\n",
    "                how = \"left\",\n",
    "                on = \"state_factor\")"
   ],
   "metadata": {
    "collapsed": false
   },
   "id": "4064341505a49dc5"
  },
  {
   "cell_type": "code",
   "execution_count": null,
   "outputs": [],
   "source": [
    "del_temp = ['january_min_temp', 'january_avg_temp', 'january_max_temp', 'february_min_temp',\n",
    "            'february_avg_temp', 'february_max_temp', 'march_min_temp', 'march_avg_temp', 'march_max_temp',\n",
    "            'april_min_temp', 'april_avg_temp', 'april_max_temp', 'may_min_temp', 'may_avg_temp',\n",
    "            'may_max_temp', 'june_min_temp', 'june_avg_temp', 'june_max_temp', 'july_min_temp', 'july_avg_temp',\n",
    "            'july_max_temp', 'august_min_temp', 'august_avg_temp', 'august_max_temp', 'september_min_temp',\n",
    "            'september_avg_temp', 'september_max_temp', 'october_min_temp', 'october_avg_temp',\n",
    "            'october_max_temp', 'november_min_temp', 'november_avg_temp', 'november_max_temp',\n",
    "            'december_min_temp', 'december_avg_temp', 'december_max_temp']\n",
    "data.drop(columns = del_temp, inplace = True)"
   ],
   "metadata": {
    "collapsed": false
   },
   "id": "f19f17dfc7a1c727"
  },
  {
   "cell_type": "code",
   "execution_count": null,
   "outputs": [],
   "source": [
    "label_encoder = LabelEncoder()\n",
    "label_cols = [\"state_factor\", \"category\"]\n",
    "for col in label_cols:\n",
    "    data[col] = label_encoder.fit_transform(data[col])"
   ],
   "metadata": {
    "collapsed": false
   },
   "id": "89b66c62d928dd28"
  },
  {
   "cell_type": "code",
   "execution_count": null,
   "outputs": [],
   "source": [
    "################# Model Creation #########################\n",
    "y = data[[\"site_eui\"]]\n",
    "X = data.drop(\"site_eui\", axis = 1)\n",
    "X.head()\n",
    "\n",
    "models = [('LR', LinearRegression()),\n",
    "          ('KNN', KNeighborsRegressor()),\n",
    "          ('CART', DecisionTreeRegressor(random_state = 17)),\n",
    "          ('RF', RandomForestRegressor(random_state = 17)),\n",
    "          ('GBM', GradientBoostingRegressor(random_state = 17)),\n",
    "          (\"XGBoost\", XGBRegressor(objective = 'reg:squarederror')),\n",
    "          (\"LightGBM\", LGBMRegressor(random_state = 17))]\n",
    "\n",
    "for name, regressor in models:\n",
    "    rmse = np.mean(np.sqrt(-cross_val_score(regressor, X, y, cv = 5, scoring = \"neg_mean_squared_error\")))\n",
    "    print(f\"RMSE: {round(rmse, 4)} ({name}) \")\n"
   ],
   "metadata": {
    "collapsed": false
   },
   "id": "ce7308eb8faea5fd"
  },
  {
   "cell_type": "code",
   "execution_count": null,
   "outputs": [],
   "source": [
    "###### LightGBM\n",
    "lgbm_model = LGBMRegressor(random_state = 17)\n",
    "lgbm_params = {\"learning_rate\": [0.01, 0.05, 0.1],\n",
    "               \"n_estimators\": [500, 1000, 2000, 2500],\n",
    "               \"colsample_bytree\": [0.5, 0.7, 1]\n",
    "               }\n",
    "\n",
    "lgbm_gs_best = GridSearchCV(lgbm_model,\n",
    "                            lgbm_params,\n",
    "                            cv = 5,\n",
    "                            n_jobs = -1,\n",
    "                            verbose = True).fit(X, y)\n",
    "best = lgbm_gs_best.best_params_\n",
    "# {'colsample_bytree': 0.7, 'learning_rate': 0.01, 'n_estimators': 500}\n",
    "final_model = lgbm_model.set_params(**best).fit(X, y)\n",
    "rmse = np.mean(np.sqrt(-cross_val_score(final_model, X, y, cv = 5, scoring = \"neg_mean_squared_error\")))\n",
    "# # RMSE: 50.41004\n"
   ],
   "metadata": {
    "collapsed": false
   },
   "id": "b86f08a07c759fca"
  },
  {
   "cell_type": "code",
   "execution_count": null,
   "outputs": [],
   "source": [
    "joblib.dump(final_model, \"datasets/model.pkl\")"
   ],
   "metadata": {
    "collapsed": false
   },
   "id": "c3e12896633d4112"
  },
  {
   "cell_type": "code",
   "execution_count": null,
   "outputs": [],
   "source": [
    "# upload_to_s3(\"datasets/model.pkl\", \"model_energy.pkl\")"
   ],
   "metadata": {
    "collapsed": false
   },
   "id": "301e1e229698730a"
  }
 ],
 "metadata": {
  "kernelspec": {
   "display_name": "Python 3",
   "language": "python",
   "name": "python3"
  },
  "language_info": {
   "codemirror_mode": {
    "name": "ipython",
    "version": 2
   },
   "file_extension": ".py",
   "mimetype": "text/x-python",
   "name": "python",
   "nbconvert_exporter": "python",
   "pygments_lexer": "ipython2",
   "version": "2.7.6"
  }
 },
 "nbformat": 4,
 "nbformat_minor": 5
}
