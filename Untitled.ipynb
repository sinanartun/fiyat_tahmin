{
 "cells": [
  {
   "cell_type": "code",
   "execution_count": 15,
   "id": "840522d4",
   "metadata": {},
   "outputs": [],
   "source": [
    "import numpy as np\n",
    "import pandas as pd\n",
    "import matplotlib.pyplot as plt\n",
    "from sklearn.model_selection import train_test_split\n",
    "from sklearn.preprocessing import LabelEncoder, StandardScaler\n",
    "import seaborn as sns"
   ]
  },
  {
   "cell_type": "code",
   "execution_count": 58,
   "id": "db65076a",
   "metadata": {},
   "outputs": [],
   "source": [
    "s3_bucket = \"busonbucket\"\n",
    "def upload_to_s3 (localpath, remotepath):\n",
    "    boto3.client(\"s3\").uploadfile(Filename=localpath, Bucket=s3_bucket, Key=remotepath)\n",
    "\n",
    "def download_from_s3(key, filename):\n",
    "    boto3.client(\"s3\").downloadfile(s3_bucket, key, filename)    "
   ]
  },
  {
   "cell_type": "code",
   "execution_count": 2,
   "id": "91e2dd3a",
   "metadata": {},
   "outputs": [],
   "source": [
    "data = pd.read_csv('train.csv')\n",
    "data_test = pd.read_csv('test.csv')  #To be used at the end of the project"
   ]
  },
  {
   "cell_type": "code",
   "execution_count": 3,
   "id": "39f86f5f",
   "metadata": {},
   "outputs": [
    {
     "data": {
      "text/html": [
       "<div>\n",
       "<style scoped>\n",
       "    .dataframe tbody tr th:only-of-type {\n",
       "        vertical-align: middle;\n",
       "    }\n",
       "\n",
       "    .dataframe tbody tr th {\n",
       "        vertical-align: top;\n",
       "    }\n",
       "\n",
       "    .dataframe thead th {\n",
       "        text-align: right;\n",
       "    }\n",
       "</style>\n",
       "<table border=\"1\" class=\"dataframe\">\n",
       "  <thead>\n",
       "    <tr style=\"text-align: right;\">\n",
       "      <th></th>\n",
       "      <th>Id</th>\n",
       "      <th>Seri</th>\n",
       "      <th>Model</th>\n",
       "      <th>Ilan Basligi</th>\n",
       "      <th>Yil</th>\n",
       "      <th>KM</th>\n",
       "      <th>Renk</th>\n",
       "      <th>Ilan Tarihi</th>\n",
       "      <th>Il / Ilce</th>\n",
       "      <th>Fiyat</th>\n",
       "    </tr>\n",
       "  </thead>\n",
       "  <tbody>\n",
       "    <tr>\n",
       "      <th>0</th>\n",
       "      <td>1</td>\n",
       "      <td>Rio</td>\n",
       "      <td>1.25 CVVT Concept</td>\n",
       "      <td>?lk sahibinden emsalsiz temizlikte</td>\n",
       "      <td>2017</td>\n",
       "      <td>59.0</td>\n",
       "      <td>Siyah</td>\n",
       "      <td>19 Ocak\\n                        2020</td>\n",
       "      <td>Kocaeli?zmit</td>\n",
       "      <td>85.000 TL</td>\n",
       "    </tr>\n",
       "    <tr>\n",
       "      <th>1</th>\n",
       "      <td>2</td>\n",
       "      <td>323</td>\n",
       "      <td>1.6 GLX</td>\n",
       "      <td>mazda 323 1,6 LPG</td>\n",
       "      <td>1992</td>\n",
       "      <td>290.0</td>\n",
       "      <td>Ye?il</td>\n",
       "      <td>11 Ocak\\n                        2020</td>\n",
       "      <td>AnkaraKe�i�ren</td>\n",
       "      <td>15.900 TL</td>\n",
       "    </tr>\n",
       "    <tr>\n",
       "      <th>2</th>\n",
       "      <td>3</td>\n",
       "      <td>Marea</td>\n",
       "      <td>1.6 Liberty</td>\n",
       "      <td>F?AT MAREA 1.6 L?BERTY LPG</td>\n",
       "      <td>2004</td>\n",
       "      <td>260.0</td>\n",
       "      <td>F�me</td>\n",
       "      <td>22 Ocak\\n                        2020</td>\n",
       "      <td>Mu?laFethiye</td>\n",
       "      <td>21.500 TL</td>\n",
       "    </tr>\n",
       "    <tr>\n",
       "      <th>3</th>\n",
       "      <td>4</td>\n",
       "      <td>A3</td>\n",
       "      <td>A3 Sedan 1.6 TDI</td>\n",
       "      <td>?STANBULA MEHMET BEYE OPS?YONLANMI?TIR..</td>\n",
       "      <td>2014</td>\n",
       "      <td>139.0</td>\n",
       "      <td>Beyaz</td>\n",
       "      <td>20 Ocak\\n                        2020</td>\n",
       "      <td>DenizliSarayk�y</td>\n",
       "      <td>146.500 TL</td>\n",
       "    </tr>\n",
       "    <tr>\n",
       "      <th>4</th>\n",
       "      <td>5</td>\n",
       "      <td>A3</td>\n",
       "      <td>A3 Sportback 1.4 TFSI</td>\n",
       "      <td>Temiz Bak?ml? A3</td>\n",
       "      <td>2010</td>\n",
       "      <td>173.0</td>\n",
       "      <td>Beyaz</td>\n",
       "      <td>21 Ocak\\n                        2020</td>\n",
       "      <td>KonyaEre?li</td>\n",
       "      <td>86.500 TL</td>\n",
       "    </tr>\n",
       "    <tr>\n",
       "      <th>...</th>\n",
       "      <td>...</td>\n",
       "      <td>...</td>\n",
       "      <td>...</td>\n",
       "      <td>...</td>\n",
       "      <td>...</td>\n",
       "      <td>...</td>\n",
       "      <td>...</td>\n",
       "      <td>...</td>\n",
       "      <td>...</td>\n",
       "      <td>...</td>\n",
       "    </tr>\n",
       "    <tr>\n",
       "      <th>9569</th>\n",
       "      <td>9570</td>\n",
       "      <td>Focus</td>\n",
       "      <td>1.5 TDCi Style</td>\n",
       "      <td>MOREL?NE MOTOR'S DAN 2016 FORD FOCUS STYLE I?I...</td>\n",
       "      <td>2016</td>\n",
       "      <td>92.0</td>\n",
       "      <td>Siyah</td>\n",
       "      <td>02 Ocak\\n                        2020</td>\n",
       "      <td>?stanbulBa?c?lar</td>\n",
       "      <td>116.800 TL</td>\n",
       "    </tr>\n",
       "    <tr>\n",
       "      <th>9570</th>\n",
       "      <td>9571</td>\n",
       "      <td>A6</td>\n",
       "      <td>A6 Sedan 2.0 TDI</td>\n",
       "      <td>HATASIZ BOYASIZ HASARSIZ 2012 2.0 TDI/S/L?NE/S...</td>\n",
       "      <td>2012</td>\n",
       "      <td>145.0</td>\n",
       "      <td>Beyaz</td>\n",
       "      <td>17 Ocak\\n                        2020</td>\n",
       "      <td>Ayd?nDidim</td>\n",
       "      <td>220.000 TL</td>\n",
       "    </tr>\n",
       "    <tr>\n",
       "      <th>9571</th>\n",
       "      <td>9572</td>\n",
       "      <td>Insignia</td>\n",
       "      <td>2.0 CDTI Edition Elegance</td>\n",
       "      <td>- WRC GARAJ - 2013 OPEL INSIGNIA 2.0 CDTI EDIT...</td>\n",
       "      <td>2013</td>\n",
       "      <td>160.0</td>\n",
       "      <td>Siyah</td>\n",
       "      <td>21 Ocak\\n                        2020</td>\n",
       "      <td>?stanbulZeytinburnu</td>\n",
       "      <td>80.000 TL</td>\n",
       "    </tr>\n",
       "    <tr>\n",
       "      <th>9572</th>\n",
       "      <td>9573</td>\n",
       "      <td>323</td>\n",
       "      <td>1.8 Familia</td>\n",
       "      <td>MOST MOTORS'DAN 323 1.8 FAM?L?A</td>\n",
       "      <td>1997</td>\n",
       "      <td>225.0</td>\n",
       "      <td>?ampanya</td>\n",
       "      <td>03 Ocak\\n                        2020</td>\n",
       "      <td>AnkaraAkyurt</td>\n",
       "      <td>27.500 TL</td>\n",
       "    </tr>\n",
       "    <tr>\n",
       "      <th>9573</th>\n",
       "      <td>9574</td>\n",
       "      <td>A4</td>\n",
       "      <td>A4 Sedan 1.6</td>\n",
       "      <td>s?f?r motor satilik</td>\n",
       "      <td>2005</td>\n",
       "      <td>1.0</td>\n",
       "      <td>Bej</td>\n",
       "      <td>21 Ocak\\n                        2020</td>\n",
       "      <td>Bursa?neg�l</td>\n",
       "      <td>60.000 TL</td>\n",
       "    </tr>\n",
       "  </tbody>\n",
       "</table>\n",
       "<p>9574 rows × 10 columns</p>\n",
       "</div>"
      ],
      "text/plain": [
       "        Id      Seri                      Model  \\\n",
       "0        1       Rio          1.25 CVVT Concept   \n",
       "1        2       323                    1.6 GLX   \n",
       "2        3     Marea                1.6 Liberty   \n",
       "3        4        A3           A3 Sedan 1.6 TDI   \n",
       "4        5        A3      A3 Sportback 1.4 TFSI   \n",
       "...    ...       ...                        ...   \n",
       "9569  9570     Focus             1.5 TDCi Style   \n",
       "9570  9571        A6           A6 Sedan 2.0 TDI   \n",
       "9571  9572  Insignia  2.0 CDTI Edition Elegance   \n",
       "9572  9573       323                1.8 Familia   \n",
       "9573  9574        A4               A4 Sedan 1.6   \n",
       "\n",
       "                                           Ilan Basligi   Yil     KM  \\\n",
       "0                    ?lk sahibinden emsalsiz temizlikte  2017   59.0   \n",
       "1                                     mazda 323 1,6 LPG  1992  290.0   \n",
       "2                            F?AT MAREA 1.6 L?BERTY LPG  2004  260.0   \n",
       "3              ?STANBULA MEHMET BEYE OPS?YONLANMI?TIR..  2014  139.0   \n",
       "4                                      Temiz Bak?ml? A3  2010  173.0   \n",
       "...                                                 ...   ...    ...   \n",
       "9569  MOREL?NE MOTOR'S DAN 2016 FORD FOCUS STYLE I?I...  2016   92.0   \n",
       "9570  HATASIZ BOYASIZ HASARSIZ 2012 2.0 TDI/S/L?NE/S...  2012  145.0   \n",
       "9571  - WRC GARAJ - 2013 OPEL INSIGNIA 2.0 CDTI EDIT...  2013  160.0   \n",
       "9572                    MOST MOTORS'DAN 323 1.8 FAM?L?A  1997  225.0   \n",
       "9573                                s?f?r motor satilik  2005    1.0   \n",
       "\n",
       "          Renk                            Ilan Tarihi            Il / Ilce  \\\n",
       "0        Siyah  19 Ocak\\n                        2020         Kocaeli?zmit   \n",
       "1        Ye?il  11 Ocak\\n                        2020       AnkaraKe�i�ren   \n",
       "2         F�me  22 Ocak\\n                        2020         Mu?laFethiye   \n",
       "3        Beyaz  20 Ocak\\n                        2020      DenizliSarayk�y   \n",
       "4        Beyaz  21 Ocak\\n                        2020          KonyaEre?li   \n",
       "...        ...                                    ...                  ...   \n",
       "9569     Siyah  02 Ocak\\n                        2020     ?stanbulBa?c?lar   \n",
       "9570     Beyaz  17 Ocak\\n                        2020           Ayd?nDidim   \n",
       "9571     Siyah  21 Ocak\\n                        2020  ?stanbulZeytinburnu   \n",
       "9572  ?ampanya  03 Ocak\\n                        2020         AnkaraAkyurt   \n",
       "9573       Bej  21 Ocak\\n                        2020          Bursa?neg�l   \n",
       "\n",
       "           Fiyat  \n",
       "0      85.000 TL  \n",
       "1      15.900 TL  \n",
       "2      21.500 TL  \n",
       "3     146.500 TL  \n",
       "4      86.500 TL  \n",
       "...          ...  \n",
       "9569  116.800 TL  \n",
       "9570  220.000 TL  \n",
       "9571   80.000 TL  \n",
       "9572   27.500 TL  \n",
       "9573   60.000 TL  \n",
       "\n",
       "[9574 rows x 10 columns]"
      ]
     },
     "execution_count": 3,
     "metadata": {},
     "output_type": "execute_result"
    }
   ],
   "source": [
    "data"
   ]
  },
  {
   "cell_type": "code",
   "execution_count": 4,
   "id": "c714e5b2",
   "metadata": {},
   "outputs": [
    {
     "data": {
      "text/html": [
       "<div>\n",
       "<style scoped>\n",
       "    .dataframe tbody tr th:only-of-type {\n",
       "        vertical-align: middle;\n",
       "    }\n",
       "\n",
       "    .dataframe tbody tr th {\n",
       "        vertical-align: top;\n",
       "    }\n",
       "\n",
       "    .dataframe thead th {\n",
       "        text-align: right;\n",
       "    }\n",
       "</style>\n",
       "<table border=\"1\" class=\"dataframe\">\n",
       "  <thead>\n",
       "    <tr style=\"text-align: right;\">\n",
       "      <th></th>\n",
       "      <th>Id</th>\n",
       "      <th>Seri</th>\n",
       "      <th>Model</th>\n",
       "      <th>Ilan Basligi</th>\n",
       "      <th>Yil</th>\n",
       "      <th>KM</th>\n",
       "      <th>Renk</th>\n",
       "      <th>Ilan Tarihi</th>\n",
       "      <th>Il / Ilce</th>\n",
       "    </tr>\n",
       "  </thead>\n",
       "  <tbody>\n",
       "    <tr>\n",
       "      <th>0</th>\n",
       "      <td>1</td>\n",
       "      <td>Accent Blue</td>\n",
       "      <td>1.6 CRDI Mode Plus</td>\n",
       "      <td>�NCELLER OTODAN OTOMAT?K D?ZEL ACCENT BLUE</td>\n",
       "      <td>2014</td>\n",
       "      <td>103.500</td>\n",
       "      <td>Beyaz</td>\n",
       "      <td>22 Ocak\\n                        2020</td>\n",
       "      <td>Ad?yamanMerkez</td>\n",
       "    </tr>\n",
       "    <tr>\n",
       "      <th>1</th>\n",
       "      <td>2</td>\n",
       "      <td>Linea</td>\n",
       "      <td>1.3 Multijet Pop</td>\n",
       "      <td>MEMURDAN 2013 L?NEA1.3 MULT?JET POP 95HP EURO5</td>\n",
       "      <td>2013</td>\n",
       "      <td>160.000</td>\n",
       "      <td>Beyaz</td>\n",
       "      <td>22 Ocak\\n                        2020</td>\n",
       "      <td>HatayAntakya</td>\n",
       "    </tr>\n",
       "    <tr>\n",
       "      <th>2</th>\n",
       "      <td>3</td>\n",
       "      <td>626</td>\n",
       "      <td>2</td>\n",
       "      <td>Mazda 626 Tam Bir Aile Arac? Temiz Ekonomik S?...</td>\n",
       "      <td>1993</td>\n",
       "      <td>202.000</td>\n",
       "      <td>F�me</td>\n",
       "      <td>31 Aral?k\\n                        2019</td>\n",
       "      <td>?zmirBuca</td>\n",
       "    </tr>\n",
       "    <tr>\n",
       "      <th>3</th>\n",
       "      <td>4</td>\n",
       "      <td>3 Serisi</td>\n",
       "      <td>320i</td>\n",
       "      <td>98 SUNROOF-RECORE-SIFIR MUAYNEL? MASRAFSIZ 320...</td>\n",
       "      <td>1998</td>\n",
       "      <td>217.000</td>\n",
       "      <td>Mavi</td>\n",
       "      <td>21 Ocak\\n                        2020</td>\n",
       "      <td>KonyaEre?li</td>\n",
       "    </tr>\n",
       "    <tr>\n",
       "      <th>4</th>\n",
       "      <td>5</td>\n",
       "      <td>A4</td>\n",
       "      <td>A4 Sedan 2.0 TDI</td>\n",
       "      <td>CSN AUTODAN HATASIZ BOYASIZ SADECE 103.000KM 1...</td>\n",
       "      <td>2015</td>\n",
       "      <td>103.000</td>\n",
       "      <td>Beyaz</td>\n",
       "      <td>20 Ocak\\n                        2020</td>\n",
       "      <td>MersinYeni?ehir</td>\n",
       "    </tr>\n",
       "    <tr>\n",
       "      <th>...</th>\n",
       "      <td>...</td>\n",
       "      <td>...</td>\n",
       "      <td>...</td>\n",
       "      <td>...</td>\n",
       "      <td>...</td>\n",
       "      <td>...</td>\n",
       "      <td>...</td>\n",
       "      <td>...</td>\n",
       "      <td>...</td>\n",
       "    </tr>\n",
       "    <tr>\n",
       "      <th>2389</th>\n",
       "      <td>2390</td>\n",
       "      <td>C Serisi</td>\n",
       "      <td>C 200 d BlueTEC AMG</td>\n",
       "      <td>SERV?S BAKIMLI EN DOLUSU AMG PAKET CARL BENZ ?...</td>\n",
       "      <td>2017</td>\n",
       "      <td>84.250</td>\n",
       "      <td>Siyah</td>\n",
       "      <td>08 Ocak\\n                        2020</td>\n",
       "      <td>Ankara�ankaya</td>\n",
       "    </tr>\n",
       "    <tr>\n",
       "      <th>2390</th>\n",
       "      <td>2391</td>\n",
       "      <td>3 Serisi</td>\n",
       "      <td>316i Standart</td>\n",
       "      <td>BMW 3.16 KAZASIZ-BOYAS�IZ-SAHIBINDEN</td>\n",
       "      <td>2011</td>\n",
       "      <td>112.800</td>\n",
       "      <td>Beyaz</td>\n",
       "      <td>21 Ocak\\n                        2020</td>\n",
       "      <td>KocaeliK�rfez</td>\n",
       "    </tr>\n",
       "    <tr>\n",
       "      <th>2391</th>\n",
       "      <td>2392</td>\n",
       "      <td>5 Serisi</td>\n",
       "      <td>520i Comfort</td>\n",
       "      <td>K�LT�R OTOMOT?VDEN BORUSAN �IKI?LI 5.20</td>\n",
       "      <td>2013</td>\n",
       "      <td>101.000</td>\n",
       "      <td>Beyaz</td>\n",
       "      <td>08 Ocak\\n                        2020</td>\n",
       "      <td>ManisaTurgutlu</td>\n",
       "    </tr>\n",
       "    <tr>\n",
       "      <th>2392</th>\n",
       "      <td>2393</td>\n",
       "      <td>Primera</td>\n",
       "      <td>1.6 Special</td>\n",
       "      <td>temiz otomobil full paket</td>\n",
       "      <td>1999</td>\n",
       "      <td>360.000</td>\n",
       "      <td>G�m�? Gri</td>\n",
       "      <td>20 Ocak\\n                        2020</td>\n",
       "      <td>DenizliMerkezefendi</td>\n",
       "    </tr>\n",
       "    <tr>\n",
       "      <th>2393</th>\n",
       "      <td>2394</td>\n",
       "      <td>A3</td>\n",
       "      <td>A3 Sedan 1.6 TDI</td>\n",
       "      <td>Aykan ?stanbul'dan AUD? A3 SEDAN AMB?ANTE 1.6 ...</td>\n",
       "      <td>2015</td>\n",
       "      <td>85.415</td>\n",
       "      <td>Beyaz</td>\n",
       "      <td>20 Ocak\\n                        2020</td>\n",
       "      <td>?stanbulMaltepe</td>\n",
       "    </tr>\n",
       "  </tbody>\n",
       "</table>\n",
       "<p>2394 rows × 9 columns</p>\n",
       "</div>"
      ],
      "text/plain": [
       "        Id         Seri                Model  \\\n",
       "0        1  Accent Blue   1.6 CRDI Mode Plus   \n",
       "1        2        Linea     1.3 Multijet Pop   \n",
       "2        3          626                    2   \n",
       "3        4     3 Serisi                 320i   \n",
       "4        5           A4     A4 Sedan 2.0 TDI   \n",
       "...    ...          ...                  ...   \n",
       "2389  2390     C Serisi  C 200 d BlueTEC AMG   \n",
       "2390  2391     3 Serisi        316i Standart   \n",
       "2391  2392     5 Serisi         520i Comfort   \n",
       "2392  2393      Primera          1.6 Special   \n",
       "2393  2394           A3     A3 Sedan 1.6 TDI   \n",
       "\n",
       "                                           Ilan Basligi   Yil       KM  \\\n",
       "0            �NCELLER OTODAN OTOMAT?K D?ZEL ACCENT BLUE  2014  103.500   \n",
       "1        MEMURDAN 2013 L?NEA1.3 MULT?JET POP 95HP EURO5  2013  160.000   \n",
       "2     Mazda 626 Tam Bir Aile Arac? Temiz Ekonomik S?...  1993  202.000   \n",
       "3     98 SUNROOF-RECORE-SIFIR MUAYNEL? MASRAFSIZ 320...  1998  217.000   \n",
       "4     CSN AUTODAN HATASIZ BOYASIZ SADECE 103.000KM 1...  2015  103.000   \n",
       "...                                                 ...   ...      ...   \n",
       "2389  SERV?S BAKIMLI EN DOLUSU AMG PAKET CARL BENZ ?...  2017   84.250   \n",
       "2390               BMW 3.16 KAZASIZ-BOYAS�IZ-SAHIBINDEN  2011  112.800   \n",
       "2391            K�LT�R OTOMOT?VDEN BORUSAN �IKI?LI 5.20  2013  101.000   \n",
       "2392                          temiz otomobil full paket  1999  360.000   \n",
       "2393  Aykan ?stanbul'dan AUD? A3 SEDAN AMB?ANTE 1.6 ...  2015   85.415   \n",
       "\n",
       "           Renk                              Ilan Tarihi            Il / Ilce  \n",
       "0         Beyaz    22 Ocak\\n                        2020       Ad?yamanMerkez  \n",
       "1         Beyaz    22 Ocak\\n                        2020         HatayAntakya  \n",
       "2          F�me  31 Aral?k\\n                        2019            ?zmirBuca  \n",
       "3          Mavi    21 Ocak\\n                        2020          KonyaEre?li  \n",
       "4         Beyaz    20 Ocak\\n                        2020      MersinYeni?ehir  \n",
       "...         ...                                      ...                  ...  \n",
       "2389      Siyah    08 Ocak\\n                        2020        Ankara�ankaya  \n",
       "2390      Beyaz    21 Ocak\\n                        2020        KocaeliK�rfez  \n",
       "2391      Beyaz    08 Ocak\\n                        2020       ManisaTurgutlu  \n",
       "2392  G�m�? Gri    20 Ocak\\n                        2020  DenizliMerkezefendi  \n",
       "2393      Beyaz    20 Ocak\\n                        2020      ?stanbulMaltepe  \n",
       "\n",
       "[2394 rows x 9 columns]"
      ]
     },
     "execution_count": 4,
     "metadata": {},
     "output_type": "execute_result"
    }
   ],
   "source": [
    "data_test"
   ]
  },
  {
   "cell_type": "code",
   "execution_count": 5,
   "id": "36319288",
   "metadata": {},
   "outputs": [
    {
     "name": "stdout",
     "output_type": "stream",
     "text": [
      "Number of empty data in the Train data set\n",
      "Id              0\n",
      "Seri            0\n",
      "Model           0\n",
      "Ilan Basligi    0\n",
      "Yil             0\n",
      "KM              0\n",
      "Renk            0\n",
      "Ilan Tarihi     0\n",
      "Il / Ilce       0\n",
      "Fiyat           0\n",
      "dtype: int64\n",
      "-------------------------------------------\n",
      "Number of empty data in the Test data set\n",
      "Id              0\n",
      "Seri            0\n",
      "Model           0\n",
      "Ilan Basligi    0\n",
      "Yil             0\n",
      "KM              0\n",
      "Renk            0\n",
      "Ilan Tarihi     0\n",
      "Il / Ilce       0\n",
      "dtype: int64\n"
     ]
    }
   ],
   "source": [
    "print(\"Number of empty data in the Train data set\")\n",
    "print(data.isna().sum())\n",
    "print(\"-------------------------------------------\")\n",
    "print(\"Number of empty data in the Test data set\")\n",
    "print(data_test.isna().sum())"
   ]
  },
  {
   "cell_type": "code",
   "execution_count": 6,
   "id": "8d13ace2",
   "metadata": {},
   "outputs": [],
   "source": [
    "# Encode the categorical variables\n",
    "# Converting \"Renk\" column to numeric data\n",
    "label_encoder = LabelEncoder()\n",
    "data[\"Renk\"] = label_encoder.fit_transform(data[\"Renk\"])\n",
    "\n",
    "# Converting \"Seri\" column to numeric data\n",
    "label_encoder = LabelEncoder()\n",
    "data[\"Seri\"] = label_encoder.fit_transform(data[\"Seri\"])\n",
    "\n",
    "# Converting \"Model\" column to numeric data\n",
    "label_encoder = LabelEncoder()\n",
    "data[\"Model\"] = label_encoder.fit_transform(data[\"Model\"])\n",
    "\n",
    "# Converting \"Ilan Basligi\" column to numeric data\n",
    "label_encoder = LabelEncoder()\n",
    "data[\"Ilan Basligi\"] = label_encoder.fit_transform(data[\"Ilan Basligi\"])\n",
    "\n",
    "# Converting \"Ilan Tarihi\" column to numeric data\n",
    "label_encoder = LabelEncoder()\n",
    "data[\"Ilan Tarihi\"] = label_encoder.fit_transform(data[\"Ilan Tarihi\"])\n",
    "\n",
    "# Converting \"Il / Ilce\" column to numeric data\n",
    "label_encoder = LabelEncoder()\n",
    "data[\"Il / Ilce\"] = label_encoder.fit_transform(data[\"Il / Ilce\"])"
   ]
  },
  {
   "cell_type": "code",
   "execution_count": 7,
   "id": "ba6eca4a",
   "metadata": {},
   "outputs": [
    {
     "data": {
      "text/html": [
       "<div>\n",
       "<style scoped>\n",
       "    .dataframe tbody tr th:only-of-type {\n",
       "        vertical-align: middle;\n",
       "    }\n",
       "\n",
       "    .dataframe tbody tr th {\n",
       "        vertical-align: top;\n",
       "    }\n",
       "\n",
       "    .dataframe thead th {\n",
       "        text-align: right;\n",
       "    }\n",
       "</style>\n",
       "<table border=\"1\" class=\"dataframe\">\n",
       "  <thead>\n",
       "    <tr style=\"text-align: right;\">\n",
       "      <th></th>\n",
       "      <th>Id</th>\n",
       "      <th>Seri</th>\n",
       "      <th>Model</th>\n",
       "      <th>Ilan Basligi</th>\n",
       "      <th>Yil</th>\n",
       "      <th>KM</th>\n",
       "      <th>Renk</th>\n",
       "      <th>Ilan Tarihi</th>\n",
       "      <th>Il / Ilce</th>\n",
       "      <th>Fiyat</th>\n",
       "    </tr>\n",
       "  </thead>\n",
       "  <tbody>\n",
       "    <tr>\n",
       "      <th>0</th>\n",
       "      <td>1</td>\n",
       "      <td>129</td>\n",
       "      <td>72</td>\n",
       "      <td>2406</td>\n",
       "      <td>2017</td>\n",
       "      <td>59.0</td>\n",
       "      <td>14</td>\n",
       "      <td>33</td>\n",
       "      <td>334</td>\n",
       "      <td>85.000 TL</td>\n",
       "    </tr>\n",
       "    <tr>\n",
       "      <th>1</th>\n",
       "      <td>2</td>\n",
       "      <td>15</td>\n",
       "      <td>504</td>\n",
       "      <td>8572</td>\n",
       "      <td>1992</td>\n",
       "      <td>290.0</td>\n",
       "      <td>17</td>\n",
       "      <td>18</td>\n",
       "      <td>123</td>\n",
       "      <td>15.900 TL</td>\n",
       "    </tr>\n",
       "    <tr>\n",
       "      <th>2</th>\n",
       "      <td>3</td>\n",
       "      <td>105</td>\n",
       "      <td>540</td>\n",
       "      <td>4164</td>\n",
       "      <td>2004</td>\n",
       "      <td>260.0</td>\n",
       "      <td>4</td>\n",
       "      <td>40</td>\n",
       "      <td>406</td>\n",
       "      <td>21.500 TL</td>\n",
       "    </tr>\n",
       "    <tr>\n",
       "      <th>3</th>\n",
       "      <td>4</td>\n",
       "      <td>30</td>\n",
       "      <td>1010</td>\n",
       "      <td>2361</td>\n",
       "      <td>2014</td>\n",
       "      <td>139.0</td>\n",
       "      <td>2</td>\n",
       "      <td>36</td>\n",
       "      <td>218</td>\n",
       "      <td>146.500 TL</td>\n",
       "    </tr>\n",
       "    <tr>\n",
       "      <th>4</th>\n",
       "      <td>5</td>\n",
       "      <td>30</td>\n",
       "      <td>1014</td>\n",
       "      <td>7769</td>\n",
       "      <td>2010</td>\n",
       "      <td>173.0</td>\n",
       "      <td>2</td>\n",
       "      <td>38</td>\n",
       "      <td>351</td>\n",
       "      <td>86.500 TL</td>\n",
       "    </tr>\n",
       "    <tr>\n",
       "      <th>...</th>\n",
       "      <td>...</td>\n",
       "      <td>...</td>\n",
       "      <td>...</td>\n",
       "      <td>...</td>\n",
       "      <td>...</td>\n",
       "      <td>...</td>\n",
       "      <td>...</td>\n",
       "      <td>...</td>\n",
       "      <td>...</td>\n",
       "      <td>...</td>\n",
       "    </tr>\n",
       "    <tr>\n",
       "      <th>9569</th>\n",
       "      <td>9570</td>\n",
       "      <td>86</td>\n",
       "      <td>360</td>\n",
       "      <td>5713</td>\n",
       "      <td>2016</td>\n",
       "      <td>92.0</td>\n",
       "      <td>14</td>\n",
       "      <td>3</td>\n",
       "      <td>16</td>\n",
       "      <td>116.800 TL</td>\n",
       "    </tr>\n",
       "    <tr>\n",
       "      <th>9570</th>\n",
       "      <td>9571</td>\n",
       "      <td>33</td>\n",
       "      <td>1069</td>\n",
       "      <td>4668</td>\n",
       "      <td>2012</td>\n",
       "      <td>145.0</td>\n",
       "      <td>2</td>\n",
       "      <td>27</td>\n",
       "      <td>156</td>\n",
       "      <td>220.000 TL</td>\n",
       "    </tr>\n",
       "    <tr>\n",
       "      <th>9571</th>\n",
       "      <td>9572</td>\n",
       "      <td>93</td>\n",
       "      <td>701</td>\n",
       "      <td>160</td>\n",
       "      <td>2013</td>\n",
       "      <td>160.0</td>\n",
       "      <td>14</td>\n",
       "      <td>38</td>\n",
       "      <td>43</td>\n",
       "      <td>80.000 TL</td>\n",
       "    </tr>\n",
       "    <tr>\n",
       "      <th>9572</th>\n",
       "      <td>9573</td>\n",
       "      <td>15</td>\n",
       "      <td>645</td>\n",
       "      <td>5715</td>\n",
       "      <td>1997</td>\n",
       "      <td>225.0</td>\n",
       "      <td>0</td>\n",
       "      <td>5</td>\n",
       "      <td>113</td>\n",
       "      <td>27.500 TL</td>\n",
       "    </tr>\n",
       "    <tr>\n",
       "      <th>9573</th>\n",
       "      <td>9574</td>\n",
       "      <td>31</td>\n",
       "      <td>1027</td>\n",
       "      <td>8705</td>\n",
       "      <td>2005</td>\n",
       "      <td>1.0</td>\n",
       "      <td>1</td>\n",
       "      <td>38</td>\n",
       "      <td>197</td>\n",
       "      <td>60.000 TL</td>\n",
       "    </tr>\n",
       "  </tbody>\n",
       "</table>\n",
       "<p>9574 rows × 10 columns</p>\n",
       "</div>"
      ],
      "text/plain": [
       "        Id  Seri  Model  Ilan Basligi   Yil     KM  Renk  Ilan Tarihi  \\\n",
       "0        1   129     72          2406  2017   59.0    14           33   \n",
       "1        2    15    504          8572  1992  290.0    17           18   \n",
       "2        3   105    540          4164  2004  260.0     4           40   \n",
       "3        4    30   1010          2361  2014  139.0     2           36   \n",
       "4        5    30   1014          7769  2010  173.0     2           38   \n",
       "...    ...   ...    ...           ...   ...    ...   ...          ...   \n",
       "9569  9570    86    360          5713  2016   92.0    14            3   \n",
       "9570  9571    33   1069          4668  2012  145.0     2           27   \n",
       "9571  9572    93    701           160  2013  160.0    14           38   \n",
       "9572  9573    15    645          5715  1997  225.0     0            5   \n",
       "9573  9574    31   1027          8705  2005    1.0     1           38   \n",
       "\n",
       "      Il / Ilce       Fiyat  \n",
       "0           334   85.000 TL  \n",
       "1           123   15.900 TL  \n",
       "2           406   21.500 TL  \n",
       "3           218  146.500 TL  \n",
       "4           351   86.500 TL  \n",
       "...         ...         ...  \n",
       "9569         16  116.800 TL  \n",
       "9570        156  220.000 TL  \n",
       "9571         43   80.000 TL  \n",
       "9572        113   27.500 TL  \n",
       "9573        197   60.000 TL  \n",
       "\n",
       "[9574 rows x 10 columns]"
      ]
     },
     "execution_count": 7,
     "metadata": {},
     "output_type": "execute_result"
    }
   ],
   "source": [
    "data"
   ]
  },
  {
   "cell_type": "code",
   "execution_count": 8,
   "id": "5f9265d4",
   "metadata": {},
   "outputs": [
    {
     "name": "stdout",
     "output_type": "stream",
     "text": [
      "   Id  Seri  Model  Ilan Basligi   Yil     KM  Renk  Ilan Tarihi  Il / Ilce  \\\n",
      "0   1   129     72          2406  2017   59.0    14           33        334   \n",
      "1   2    15    504          8572  1992  290.0    17           18        123   \n",
      "2   3   105    540          4164  2004  260.0     4           40        406   \n",
      "\n",
      "     Fiyat  \n",
      "0  85000.0  \n",
      "1  15900.0  \n",
      "2  21500.0  \n"
     ]
    }
   ],
   "source": [
    "data[\"Fiyat\"] = data[\"Fiyat\"].str.replace(\"TL\", \"\", regex=False).str.replace(\".\", \"\").str.replace(\",\", \".\").astype(float)\n",
    "data[\"Fiyat\"] = data[\"Fiyat\"].astype(float)\n",
    "print(data.head(3))"
   ]
  },
  {
   "cell_type": "code",
   "execution_count": 9,
   "id": "0e7254a6",
   "metadata": {},
   "outputs": [],
   "source": [
    "scaler = StandardScaler()\n",
    "\n",
    "data[['Yil', 'KM']] = scaler.fit_transform(data[['Yil', 'KM']])"
   ]
  },
  {
   "cell_type": "code",
   "execution_count": 10,
   "id": "7a31cc27",
   "metadata": {},
   "outputs": [
    {
     "data": {
      "text/html": [
       "<div>\n",
       "<style scoped>\n",
       "    .dataframe tbody tr th:only-of-type {\n",
       "        vertical-align: middle;\n",
       "    }\n",
       "\n",
       "    .dataframe tbody tr th {\n",
       "        vertical-align: top;\n",
       "    }\n",
       "\n",
       "    .dataframe thead th {\n",
       "        text-align: right;\n",
       "    }\n",
       "</style>\n",
       "<table border=\"1\" class=\"dataframe\">\n",
       "  <thead>\n",
       "    <tr style=\"text-align: right;\">\n",
       "      <th></th>\n",
       "      <th>Id</th>\n",
       "      <th>Seri</th>\n",
       "      <th>Model</th>\n",
       "      <th>Ilan Basligi</th>\n",
       "      <th>Yil</th>\n",
       "      <th>KM</th>\n",
       "      <th>Renk</th>\n",
       "      <th>Ilan Tarihi</th>\n",
       "      <th>Il / Ilce</th>\n",
       "      <th>Fiyat</th>\n",
       "    </tr>\n",
       "  </thead>\n",
       "  <tbody>\n",
       "    <tr>\n",
       "      <th>0</th>\n",
       "      <td>1</td>\n",
       "      <td>129</td>\n",
       "      <td>72</td>\n",
       "      <td>2406</td>\n",
       "      <td>1.049899</td>\n",
       "      <td>-0.997822</td>\n",
       "      <td>14</td>\n",
       "      <td>33</td>\n",
       "      <td>334</td>\n",
       "      <td>85000.0</td>\n",
       "    </tr>\n",
       "    <tr>\n",
       "      <th>1</th>\n",
       "      <td>2</td>\n",
       "      <td>15</td>\n",
       "      <td>504</td>\n",
       "      <td>8572</td>\n",
       "      <td>-2.370361</td>\n",
       "      <td>1.403840</td>\n",
       "      <td>17</td>\n",
       "      <td>18</td>\n",
       "      <td>123</td>\n",
       "      <td>15900.0</td>\n",
       "    </tr>\n",
       "    <tr>\n",
       "      <th>2</th>\n",
       "      <td>3</td>\n",
       "      <td>105</td>\n",
       "      <td>540</td>\n",
       "      <td>4164</td>\n",
       "      <td>-0.728636</td>\n",
       "      <td>1.091936</td>\n",
       "      <td>4</td>\n",
       "      <td>40</td>\n",
       "      <td>406</td>\n",
       "      <td>21500.0</td>\n",
       "    </tr>\n",
       "    <tr>\n",
       "      <th>3</th>\n",
       "      <td>4</td>\n",
       "      <td>30</td>\n",
       "      <td>1010</td>\n",
       "      <td>2361</td>\n",
       "      <td>0.639468</td>\n",
       "      <td>-0.166078</td>\n",
       "      <td>2</td>\n",
       "      <td>36</td>\n",
       "      <td>218</td>\n",
       "      <td>146500.0</td>\n",
       "    </tr>\n",
       "    <tr>\n",
       "      <th>4</th>\n",
       "      <td>5</td>\n",
       "      <td>30</td>\n",
       "      <td>1014</td>\n",
       "      <td>7769</td>\n",
       "      <td>0.092226</td>\n",
       "      <td>0.187414</td>\n",
       "      <td>2</td>\n",
       "      <td>38</td>\n",
       "      <td>351</td>\n",
       "      <td>86500.0</td>\n",
       "    </tr>\n",
       "    <tr>\n",
       "      <th>...</th>\n",
       "      <td>...</td>\n",
       "      <td>...</td>\n",
       "      <td>...</td>\n",
       "      <td>...</td>\n",
       "      <td>...</td>\n",
       "      <td>...</td>\n",
       "      <td>...</td>\n",
       "      <td>...</td>\n",
       "      <td>...</td>\n",
       "      <td>...</td>\n",
       "    </tr>\n",
       "    <tr>\n",
       "      <th>9569</th>\n",
       "      <td>9570</td>\n",
       "      <td>86</td>\n",
       "      <td>360</td>\n",
       "      <td>5713</td>\n",
       "      <td>0.913089</td>\n",
       "      <td>-0.654728</td>\n",
       "      <td>14</td>\n",
       "      <td>3</td>\n",
       "      <td>16</td>\n",
       "      <td>116800.0</td>\n",
       "    </tr>\n",
       "    <tr>\n",
       "      <th>9570</th>\n",
       "      <td>9571</td>\n",
       "      <td>33</td>\n",
       "      <td>1069</td>\n",
       "      <td>4668</td>\n",
       "      <td>0.365847</td>\n",
       "      <td>-0.103697</td>\n",
       "      <td>2</td>\n",
       "      <td>27</td>\n",
       "      <td>156</td>\n",
       "      <td>220000.0</td>\n",
       "    </tr>\n",
       "    <tr>\n",
       "      <th>9571</th>\n",
       "      <td>9572</td>\n",
       "      <td>93</td>\n",
       "      <td>701</td>\n",
       "      <td>160</td>\n",
       "      <td>0.502657</td>\n",
       "      <td>0.052255</td>\n",
       "      <td>14</td>\n",
       "      <td>38</td>\n",
       "      <td>43</td>\n",
       "      <td>80000.0</td>\n",
       "    </tr>\n",
       "    <tr>\n",
       "      <th>9572</th>\n",
       "      <td>9573</td>\n",
       "      <td>15</td>\n",
       "      <td>645</td>\n",
       "      <td>5715</td>\n",
       "      <td>-1.686309</td>\n",
       "      <td>0.728048</td>\n",
       "      <td>0</td>\n",
       "      <td>5</td>\n",
       "      <td>113</td>\n",
       "      <td>27500.0</td>\n",
       "    </tr>\n",
       "    <tr>\n",
       "      <th>9573</th>\n",
       "      <td>9574</td>\n",
       "      <td>31</td>\n",
       "      <td>1027</td>\n",
       "      <td>8705</td>\n",
       "      <td>-0.591826</td>\n",
       "      <td>-1.600837</td>\n",
       "      <td>1</td>\n",
       "      <td>38</td>\n",
       "      <td>197</td>\n",
       "      <td>60000.0</td>\n",
       "    </tr>\n",
       "  </tbody>\n",
       "</table>\n",
       "<p>9574 rows × 10 columns</p>\n",
       "</div>"
      ],
      "text/plain": [
       "        Id  Seri  Model  Ilan Basligi       Yil        KM  Renk  Ilan Tarihi  \\\n",
       "0        1   129     72          2406  1.049899 -0.997822    14           33   \n",
       "1        2    15    504          8572 -2.370361  1.403840    17           18   \n",
       "2        3   105    540          4164 -0.728636  1.091936     4           40   \n",
       "3        4    30   1010          2361  0.639468 -0.166078     2           36   \n",
       "4        5    30   1014          7769  0.092226  0.187414     2           38   \n",
       "...    ...   ...    ...           ...       ...       ...   ...          ...   \n",
       "9569  9570    86    360          5713  0.913089 -0.654728    14            3   \n",
       "9570  9571    33   1069          4668  0.365847 -0.103697     2           27   \n",
       "9571  9572    93    701           160  0.502657  0.052255    14           38   \n",
       "9572  9573    15    645          5715 -1.686309  0.728048     0            5   \n",
       "9573  9574    31   1027          8705 -0.591826 -1.600837     1           38   \n",
       "\n",
       "      Il / Ilce     Fiyat  \n",
       "0           334   85000.0  \n",
       "1           123   15900.0  \n",
       "2           406   21500.0  \n",
       "3           218  146500.0  \n",
       "4           351   86500.0  \n",
       "...         ...       ...  \n",
       "9569         16  116800.0  \n",
       "9570        156  220000.0  \n",
       "9571         43   80000.0  \n",
       "9572        113   27500.0  \n",
       "9573        197   60000.0  \n",
       "\n",
       "[9574 rows x 10 columns]"
      ]
     },
     "execution_count": 10,
     "metadata": {},
     "output_type": "execute_result"
    }
   ],
   "source": [
    "data"
   ]
  },
  {
   "cell_type": "code",
   "execution_count": 11,
   "id": "6a8fcdea",
   "metadata": {},
   "outputs": [
    {
     "name": "stdout",
     "output_type": "stream",
     "text": [
      "                    Id      Seri     Model  Ilan Basligi       Yil        KM  \\\n",
      "Id            1.000000 -0.005860  0.004023      0.001372  0.003375  0.004512   \n",
      "Seri         -0.005860  1.000000 -0.386207      0.002556  0.053424 -0.112335   \n",
      "Model         0.004023 -0.386207  1.000000     -0.041155 -0.004092  0.088993   \n",
      "Ilan Basligi  0.001372  0.002556 -0.041155      1.000000 -0.120323  0.073304   \n",
      "Yil           0.003375  0.053424 -0.004092     -0.120323  1.000000 -0.670894   \n",
      "KM            0.004512 -0.112335  0.088993      0.073304 -0.670894  1.000000   \n",
      "Renk         -0.005219 -0.068607  0.137562      0.021210 -0.191982  0.166392   \n",
      "Ilan Tarihi  -0.013995 -0.008799  0.088259     -0.011351  0.088456 -0.033203   \n",
      "Il / Ilce    -0.001638  0.016856 -0.048616      0.051137 -0.156800  0.117955   \n",
      "Fiyat        -0.013067 -0.111714  0.380802     -0.053616  0.354327 -0.302990   \n",
      "\n",
      "                  Renk  Ilan Tarihi  Il / Ilce     Fiyat  \n",
      "Id           -0.005219    -0.013995  -0.001638 -0.013067  \n",
      "Seri         -0.068607    -0.008799   0.016856 -0.111714  \n",
      "Model         0.137562     0.088259  -0.048616  0.380802  \n",
      "Ilan Basligi  0.021210    -0.011351   0.051137 -0.053616  \n",
      "Yil          -0.191982     0.088456  -0.156800  0.354327  \n",
      "KM            0.166392    -0.033203   0.117955 -0.302990  \n",
      "Renk          1.000000    -0.046179  -0.016319  0.040379  \n",
      "Ilan Tarihi  -0.046179     1.000000   0.009053  0.037943  \n",
      "Il / Ilce    -0.016319     0.009053   1.000000 -0.108288  \n",
      "Fiyat         0.040379     0.037943  -0.108288  1.000000  \n"
     ]
    }
   ],
   "source": [
    "correlation_matrix = data.corr()\n",
    "print(correlation_matrix)"
   ]
  },
  {
   "cell_type": "code",
   "execution_count": 12,
   "id": "84d08341",
   "metadata": {},
   "outputs": [
    {
     "name": "stdout",
     "output_type": "stream",
     "text": [
      "Fiyat           1.000000\n",
      "Model           0.380802\n",
      "Yil             0.354327\n",
      "Renk            0.040379\n",
      "Ilan Tarihi     0.037943\n",
      "Id             -0.013067\n",
      "Ilan Basligi   -0.053616\n",
      "Il / Ilce      -0.108288\n",
      "Seri           -0.111714\n",
      "KM             -0.302990\n",
      "Name: Fiyat, dtype: float64\n"
     ]
    }
   ],
   "source": [
    "print(correlation_matrix['Fiyat'].sort_values(ascending=False))"
   ]
  },
  {
   "cell_type": "code",
   "execution_count": 17,
   "id": "3a515d2c",
   "metadata": {},
   "outputs": [
    {
     "data": {
      "image/png": "[encoded data removed]",
      "text/plain": [
       "<Figure size 1200x1000 with 2 Axes>"
      ]
     },
     "metadata": {},
     "output_type": "display_data"
    }
   ],
   "source": [
    "plt.figure(figsize=(12, 10))\n",
    "\n",
    "# Draw the heatmap with larger annotation font size\n",
    "sns.heatmap(correlation_matrix, annot=True, fmt=\".2f\", annot_kws={\"size\": 12}, cmap=plt.cm.Reds)\n",
    "\n",
    "# Show the plot\n",
    "plt.show()"
   ]
  },
  {
   "cell_type": "code",
   "execution_count": 18,
   "id": "cfdcb30c",
   "metadata": {},
   "outputs": [],
   "source": [
    "# Drop the columns that we won't use\n",
    "data.drop([\"Id\", \"Ilan Basligi\", \"Ilan Tarihi\", \"Il / Ilce\" , \"Seri\"], axis=1, inplace=True)"
   ]
  },
  {
   "cell_type": "code",
   "execution_count": 19,
   "id": "92381e2e",
   "metadata": {},
   "outputs": [
    {
     "data": {
      "text/html": [
       "<div>\n",
       "<style scoped>\n",
       "    .dataframe tbody tr th:only-of-type {\n",
       "        vertical-align: middle;\n",
       "    }\n",
       "\n",
       "    .dataframe tbody tr th {\n",
       "        vertical-align: top;\n",
       "    }\n",
       "\n",
       "    .dataframe thead th {\n",
       "        text-align: right;\n",
       "    }\n",
       "</style>\n",
       "<table border=\"1\" class=\"dataframe\">\n",
       "  <thead>\n",
       "    <tr style=\"text-align: right;\">\n",
       "      <th></th>\n",
       "      <th>Model</th>\n",
       "      <th>Yil</th>\n",
       "      <th>KM</th>\n",
       "      <th>Renk</th>\n",
       "      <th>Fiyat</th>\n",
       "    </tr>\n",
       "  </thead>\n",
       "  <tbody>\n",
       "    <tr>\n",
       "      <th>0</th>\n",
       "      <td>72</td>\n",
       "      <td>1.049899</td>\n",
       "      <td>-0.997822</td>\n",
       "      <td>14</td>\n",
       "      <td>85000.0</td>\n",
       "    </tr>\n",
       "    <tr>\n",
       "      <th>1</th>\n",
       "      <td>504</td>\n",
       "      <td>-2.370361</td>\n",
       "      <td>1.403840</td>\n",
       "      <td>17</td>\n",
       "      <td>15900.0</td>\n",
       "    </tr>\n",
       "    <tr>\n",
       "      <th>2</th>\n",
       "      <td>540</td>\n",
       "      <td>-0.728636</td>\n",
       "      <td>1.091936</td>\n",
       "      <td>4</td>\n",
       "      <td>21500.0</td>\n",
       "    </tr>\n",
       "    <tr>\n",
       "      <th>3</th>\n",
       "      <td>1010</td>\n",
       "      <td>0.639468</td>\n",
       "      <td>-0.166078</td>\n",
       "      <td>2</td>\n",
       "      <td>146500.0</td>\n",
       "    </tr>\n",
       "    <tr>\n",
       "      <th>4</th>\n",
       "      <td>1014</td>\n",
       "      <td>0.092226</td>\n",
       "      <td>0.187414</td>\n",
       "      <td>2</td>\n",
       "      <td>86500.0</td>\n",
       "    </tr>\n",
       "    <tr>\n",
       "      <th>...</th>\n",
       "      <td>...</td>\n",
       "      <td>...</td>\n",
       "      <td>...</td>\n",
       "      <td>...</td>\n",
       "      <td>...</td>\n",
       "    </tr>\n",
       "    <tr>\n",
       "      <th>9569</th>\n",
       "      <td>360</td>\n",
       "      <td>0.913089</td>\n",
       "      <td>-0.654728</td>\n",
       "      <td>14</td>\n",
       "      <td>116800.0</td>\n",
       "    </tr>\n",
       "    <tr>\n",
       "      <th>9570</th>\n",
       "      <td>1069</td>\n",
       "      <td>0.365847</td>\n",
       "      <td>-0.103697</td>\n",
       "      <td>2</td>\n",
       "      <td>220000.0</td>\n",
       "    </tr>\n",
       "    <tr>\n",
       "      <th>9571</th>\n",
       "      <td>701</td>\n",
       "      <td>0.502657</td>\n",
       "      <td>0.052255</td>\n",
       "      <td>14</td>\n",
       "      <td>80000.0</td>\n",
       "    </tr>\n",
       "    <tr>\n",
       "      <th>9572</th>\n",
       "      <td>645</td>\n",
       "      <td>-1.686309</td>\n",
       "      <td>0.728048</td>\n",
       "      <td>0</td>\n",
       "      <td>27500.0</td>\n",
       "    </tr>\n",
       "    <tr>\n",
       "      <th>9573</th>\n",
       "      <td>1027</td>\n",
       "      <td>-0.591826</td>\n",
       "      <td>-1.600837</td>\n",
       "      <td>1</td>\n",
       "      <td>60000.0</td>\n",
       "    </tr>\n",
       "  </tbody>\n",
       "</table>\n",
       "<p>9574 rows × 5 columns</p>\n",
       "</div>"
      ],
      "text/plain": [
       "      Model       Yil        KM  Renk     Fiyat\n",
       "0        72  1.049899 -0.997822    14   85000.0\n",
       "1       504 -2.370361  1.403840    17   15900.0\n",
       "2       540 -0.728636  1.091936     4   21500.0\n",
       "3      1010  0.639468 -0.166078     2  146500.0\n",
       "4      1014  0.092226  0.187414     2   86500.0\n",
       "...     ...       ...       ...   ...       ...\n",
       "9569    360  0.913089 -0.654728    14  116800.0\n",
       "9570   1069  0.365847 -0.103697     2  220000.0\n",
       "9571    701  0.502657  0.052255    14   80000.0\n",
       "9572    645 -1.686309  0.728048     0   27500.0\n",
       "9573   1027 -0.591826 -1.600837     1   60000.0\n",
       "\n",
       "[9574 rows x 5 columns]"
      ]
     },
     "execution_count": 19,
     "metadata": {},
     "output_type": "execute_result"
    }
   ],
   "source": [
    "data"
   ]
  },
  {
   "cell_type": "code",
   "execution_count": 20,
   "id": "29441844",
   "metadata": {},
   "outputs": [
    {
     "data": {
      "text/plain": [
       "Text(0.5, 1.0, 'Determination of outlier values')"
      ]
     },
     "execution_count": 20,
     "metadata": {},
     "output_type": "execute_result"
    },
    {
     "data": {
      "image/png": "[encoded data removed]",
      "text/plain": [
       "<Figure size 640x480 with 1 Axes>"
      ]
     },
     "metadata": {},
     "output_type": "display_data"
    }
   ],
   "source": [
    "\n",
    "\n",
    "plt.scatter(data.index,data[\"Fiyat\"])\n",
    "plt.axhline(y=data[\"Fiyat\"].mean())\n",
    "plt.title(\"Determination of outlier values\")"
   ]
  },
  {
   "cell_type": "code",
   "execution_count": 21,
   "id": "a25098a8",
   "metadata": {},
   "outputs": [
    {
     "name": "stdout",
     "output_type": "stream",
     "text": [
      "Values less than -74250.0 will be considered Outlier\n",
      "Values more than 235750.0 will be considered Outlier\n"
     ]
    }
   ],
   "source": [
    "# Calculate the Interquartile Range (IQR):\n",
    "x = int((data['Fiyat'].quantile(0.75)-data['Fiyat'].quantile(0.25))*1.5)\n",
    "\n",
    "alt =data['Fiyat'].quantile(0.25)-x\n",
    "ust =data['Fiyat'].quantile(0.75)+x\n",
    "\n",
    "print(\"Values less than\", alt , \"will be considered Outlier\")\n",
    "print(\"Values more than\", ust , \"will be considered Outlier\")\n",
    "\n",
    "mean = int(data.query(f'Fiyat >{alt} & Fiyat < {ust}')['Fiyat'].mean())\n",
    "data.loc[data[\"Fiyat\"]<alt,\"Fiyat\"] = mean\n",
    "data.loc[data[\"Fiyat\"]>ust,\"Fiyat\"] = mean"
   ]
  },
  {
   "cell_type": "code",
   "execution_count": 22,
   "id": "fc27227c",
   "metadata": {},
   "outputs": [
    {
     "data": {
      "text/plain": [
       "Text(0.5, 1.0, 'Data set cleared of outlier values')"
      ]
     },
     "execution_count": 22,
     "metadata": {},
     "output_type": "execute_result"
    },
    {
     "data": {
      "image/png": "[encoded data removed]",
      "text/plain": [
       "<Figure size 640x480 with 1 Axes>"
      ]
     },
     "metadata": {},
     "output_type": "display_data"
    }
   ],
   "source": [
    "# data temizlendikten sonra tekrar bakiyoruz\n",
    "plt.scatter(data.index,data[\"Fiyat\"])\n",
    "plt.axhline(y=data[\"Fiyat\"].mean())\n",
    "plt.title(\"Data set cleared of outlier values\")"
   ]
  },
  {
   "cell_type": "code",
   "execution_count": 23,
   "id": "27a5bbef",
   "metadata": {},
   "outputs": [
    {
     "data": {
      "text/plain": [
       "0        85000.0\n",
       "1        15900.0\n",
       "2        21500.0\n",
       "3       146500.0\n",
       "4        86500.0\n",
       "          ...   \n",
       "9569    116800.0\n",
       "9570    220000.0\n",
       "9571     80000.0\n",
       "9572     27500.0\n",
       "9573     60000.0\n",
       "Name: Fiyat, Length: 9574, dtype: float64"
      ]
     },
     "execution_count": 23,
     "metadata": {},
     "output_type": "execute_result"
    }
   ],
   "source": [
    "data['Fiyat']"
   ]
  },
  {
   "cell_type": "code",
   "execution_count": 24,
   "id": "0a6c84b4",
   "metadata": {},
   "outputs": [],
   "source": [
    "#80 % train-test split\n",
    "split = int(0.8*data.shape[0])  #row,colon\n",
    "train_data = data[:split]\n",
    "test_data = data[split:]\n",
    "test_data = test_data.reset_index(drop=True)"
   ]
  },
  {
   "cell_type": "code",
   "execution_count": 25,
   "id": "90b1186c",
   "metadata": {},
   "outputs": [
    {
     "data": {
      "text/plain": [
       "((7659, 5), (1915, 5))"
      ]
     },
     "execution_count": 25,
     "metadata": {},
     "output_type": "execute_result"
    }
   ],
   "source": [
    "train_data.shape, test_data.shape"
   ]
  },
  {
   "cell_type": "code",
   "execution_count": 26,
   "id": "0606c0af",
   "metadata": {},
   "outputs": [
    {
     "data": {
      "text/plain": [
       "Index(['Model', 'Yil', 'KM', 'Renk', 'Fiyat'], dtype='object')"
      ]
     },
     "execution_count": 26,
     "metadata": {},
     "output_type": "execute_result"
    }
   ],
   "source": [
    "data.columns"
   ]
  },
  {
   "cell_type": "code",
   "execution_count": 27,
   "id": "b44090a3",
   "metadata": {},
   "outputs": [],
   "source": [
    "input_cols = ['Model', 'Yil', 'KM' ,'Renk',]"
   ]
  },
  {
   "cell_type": "code",
   "execution_count": 28,
   "id": "ba0e23eb",
   "metadata": {},
   "outputs": [],
   "source": [
    "output_cols = ['Fiyat']"
   ]
  },
  {
   "cell_type": "code",
   "execution_count": 29,
   "id": "460aea64",
   "metadata": {},
   "outputs": [],
   "source": [
    "X_train = np.asarray(train_data[input_cols])\n",
    "y_train = np.asarray(train_data[output_cols])\n",
    "y_train=y_train.astype('int')\n",
    "\n",
    "X_test = np.asarray(test_data[input_cols])\n",
    "y_test = np.asarray(test_data[output_cols])\n",
    "y_test=y_test.astype('int')"
   ]
  },
  {
   "cell_type": "code",
   "execution_count": 30,
   "id": "23f29554",
   "metadata": {},
   "outputs": [
    {
     "data": {
      "text/plain": [
       "array([[ 7.20000000e+01,  1.04989908e+00, -9.97822175e-01,\n",
       "         1.40000000e+01],\n",
       "       [ 5.04000000e+02, -2.37036096e+00,  1.40384008e+00,\n",
       "         1.70000000e+01],\n",
       "       [ 5.40000000e+02, -7.28636138e-01,  1.09193589e+00,\n",
       "         4.00000000e+00],\n",
       "       ...,\n",
       "       [ 1.18800000e+03,  5.02657478e-01, -5.29965891e-01,\n",
       "         2.00000000e+00],\n",
       "       [ 1.17200000e+03, -7.28636138e-01,  2.29000970e-01,\n",
       "         1.40000000e+01],\n",
       "       [ 9.15000000e+02,  2.29036674e-01,  3.12175421e-01,\n",
       "         4.00000000e+00]])"
      ]
     },
     "execution_count": 30,
     "metadata": {},
     "output_type": "execute_result"
    }
   ],
   "source": [
    "X_train"
   ]
  },
  {
   "cell_type": "code",
   "execution_count": 31,
   "id": "bbf1d5f2",
   "metadata": {},
   "outputs": [],
   "source": [
    "class LinearRegression:\n",
    "    def init(self):\n",
    "        self.coefficients = None\n",
    "\n",
    "    def fit(self, X, y):\n",
    "        # eğitim verilerine uyan bir model oluşturma\n",
    "        ones = np.ones(X.shape[0]).reshape((-1, 1))\n",
    "        X = np.concatenate((ones, X), axis=1)\n",
    "        self.coefficients = np.linalg.inv(X.T.dot(X)).dot(X.T).dot(y)\n",
    "\n",
    "    def predict(self, X):\n",
    "        # verilen girdiye karşılık gelen çıktıları tahmin etme\n",
    "        ones = np.ones(X.shape[0]).reshape((-1, 1))\n",
    "        X = np.concatenate((ones, X), axis=1)\n",
    "        return X.dot(self.coefficients)"
   ]
  },
  {
   "cell_type": "code",
   "execution_count": 32,
   "id": "c7c65105",
   "metadata": {},
   "outputs": [],
   "source": [
    "model = LinearRegression()\n",
    "model.fit(X_train, y_train)\n",
    "y_pred = model.predict(X_test)"
   ]
  },
  {
   "cell_type": "code",
   "execution_count": 33,
   "id": "b2ced1f6",
   "metadata": {},
   "outputs": [
    {
     "data": {
      "text/plain": [
       "array([[70587.87383713],\n",
       "       [70376.74847452],\n",
       "       [35233.26333623],\n",
       "       ...,\n",
       "       [98941.65714132],\n",
       "       [34526.69397901],\n",
       "       [96806.55135621]])"
      ]
     },
     "execution_count": 33,
     "metadata": {},
     "output_type": "execute_result"
    }
   ],
   "source": [
    "y_pred"
   ]
  },
  {
   "cell_type": "code",
   "execution_count": 34,
   "id": "dc912833",
   "metadata": {},
   "outputs": [
    {
     "name": "stdout",
     "output_type": "stream",
     "text": [
      "[[70600]\n",
      " [70400]\n",
      " [35250]\n",
      " ...\n",
      " [98950]\n",
      " [34550]\n",
      " [96800]]\n"
     ]
    }
   ],
   "source": [
    "#Required codes to convert \"y_pred\" values to \"Fiyat\" format\n",
    "y_pred = np.round(y_pred/50) * 50\n",
    "y_pred = y_pred.astype(int)\n",
    "\n",
    "print(y_pred)"
   ]
  },
  {
   "cell_type": "code",
   "execution_count": 35,
   "id": "3102ff42",
   "metadata": {},
   "outputs": [
    {
     "name": "stdout",
     "output_type": "stream",
     "text": [
      "Total: 370\n"
     ]
    }
   ],
   "source": [
    "count = 0\n",
    "for i in y_pred:\n",
    "    if i in y_test: \n",
    "        count += 1\n",
    "\n",
    "print(\"Total:\", count)"
   ]
  },
  {
   "cell_type": "code",
   "execution_count": 37,
   "id": "ec0ae8f5",
   "metadata": {},
   "outputs": [
    {
     "data": {
      "text/html": [
       "<style>#sk-container-id-1 {color: black;}#sk-container-id-1 pre{padding: 0;}#sk-container-id-1 div.sk-toggleable {background-color: white;}#sk-container-id-1 label.sk-toggleable__label {cursor: pointer;display: block;width: 100%;margin-bottom: 0;padding: 0.3em;box-sizing: border-box;text-align: center;}#sk-container-id-1 label.sk-toggleable__label-arrow:before {content: \"▸\";float: left;margin-right: 0.25em;color: #696969;}#sk-container-id-1 label.sk-toggleable__label-arrow:hover:before {color: black;}#sk-container-id-1 div.sk-estimator:hover label.sk-toggleable__label-arrow:before {color: black;}#sk-container-id-1 div.sk-toggleable__content {max-height: 0;max-width: 0;overflow: hidden;text-align: left;background-color: #f0f8ff;}#sk-container-id-1 div.sk-toggleable__content pre {margin: 0.2em;color: black;border-radius: 0.25em;background-color: #f0f8ff;}#sk-container-id-1 input.sk-toggleable__control:checked~div.sk-toggleable__content {max-height: 200px;max-width: 100%;overflow: auto;}#sk-container-id-1 input.sk-toggleable__control:checked~label.sk-toggleable__label-arrow:before {content: \"▾\";}#sk-container-id-1 div.sk-estimator input.sk-toggleable__control:checked~label.sk-toggleable__label {background-color: #d4ebff;}#sk-container-id-1 div.sk-label input.sk-toggleable__control:checked~label.sk-toggleable__label {background-color: #d4ebff;}#sk-container-id-1 input.sk-hidden--visually {border: 0;clip: rect(1px 1px 1px 1px);clip: rect(1px, 1px, 1px, 1px);height: 1px;margin: -1px;overflow: hidden;padding: 0;position: absolute;width: 1px;}#sk-container-id-1 div.sk-estimator {font-family: monospace;background-color: #f0f8ff;border: 1px dotted black;border-radius: 0.25em;box-sizing: border-box;margin-bottom: 0.5em;}#sk-container-id-1 div.sk-estimator:hover {background-color: #d4ebff;}#sk-container-id-1 div.sk-parallel-item::after {content: \"\";width: 100%;border-bottom: 1px solid gray;flex-grow: 1;}#sk-container-id-1 div.sk-label:hover label.sk-toggleable__label {background-color: #d4ebff;}#sk-container-id-1 div.sk-serial::before {content: \"\";position: absolute;border-left: 1px solid gray;box-sizing: border-box;top: 0;bottom: 0;left: 50%;z-index: 0;}#sk-container-id-1 div.sk-serial {display: flex;flex-direction: column;align-items: center;background-color: white;padding-right: 0.2em;padding-left: 0.2em;position: relative;}#sk-container-id-1 div.sk-item {position: relative;z-index: 1;}#sk-container-id-1 div.sk-parallel {display: flex;align-items: stretch;justify-content: center;background-color: white;position: relative;}#sk-container-id-1 div.sk-item::before, #sk-container-id-1 div.sk-parallel-item::before {content: \"\";position: absolute;border-left: 1px solid gray;box-sizing: border-box;top: 0;bottom: 0;left: 50%;z-index: -1;}#sk-container-id-1 div.sk-parallel-item {display: flex;flex-direction: column;z-index: 1;position: relative;background-color: white;}#sk-container-id-1 div.sk-parallel-item:first-child::after {align-self: flex-end;width: 50%;}#sk-container-id-1 div.sk-parallel-item:last-child::after {align-self: flex-start;width: 50%;}#sk-container-id-1 div.sk-parallel-item:only-child::after {width: 0;}#sk-container-id-1 div.sk-dashed-wrapped {border: 1px dashed gray;margin: 0 0.4em 0.5em 0.4em;box-sizing: border-box;padding-bottom: 0.4em;background-color: white;}#sk-container-id-1 div.sk-label label {font-family: monospace;font-weight: bold;display: inline-block;line-height: 1.2em;}#sk-container-id-1 div.sk-label-container {text-align: center;}#sk-container-id-1 div.sk-container {/* jupyter's `normalize.less` sets `[hidden] { display: none; }` but bootstrap.min.css set `[hidden] { display: none !important; }` so we also need the `!important` here to be able to override the default hidden behavior on the sphinx rendered scikit-learn.org. See: https://github.com/scikit-learn/scikit-learn/issues/21755 */display: inline-block !important;position: relative;}#sk-container-id-1 div.sk-text-repr-fallback {display: none;}</style><div id=\"sk-container-id-1\" class=\"sk-top-container\"><div class=\"sk-text-repr-fallback\"><pre>Lasso(alpha=0.1, max_iter=10000)</pre><b>In a Jupyter environment, please rerun this cell to show the HTML representation or trust the notebook. <br />On GitHub, the HTML representation is unable to render, please try loading this page with nbviewer.org.</b></div><div class=\"sk-container\" hidden><div class=\"sk-item\"><div class=\"sk-estimator sk-toggleable\"><input class=\"sk-toggleable__control sk-hidden--visually\" id=\"sk-estimator-id-1\" type=\"checkbox\" checked><label for=\"sk-estimator-id-1\" class=\"sk-toggleable__label sk-toggleable__label-arrow\">Lasso</label><div class=\"sk-toggleable__content\"><pre>Lasso(alpha=0.1, max_iter=10000)</pre></div></div></div></div></div>"
      ],
      "text/plain": [
       "Lasso(alpha=0.1, max_iter=10000)"
      ]
     },
     "execution_count": 37,
     "metadata": {},
     "output_type": "execute_result"
    }
   ],
   "source": [
    "#L1 regularization :\n",
    "from sklearn.linear_model import Lasso\n",
    "#alpha: regularization strength\n",
    "#max_iter: maximum number of iterations to converge\n",
    "lasso_reg = Lasso(alpha=0.1, max_iter=10000)\n",
    "lasso_reg.fit(X_train, y_train)"
   ]
  },
  {
   "cell_type": "code",
   "execution_count": 38,
   "id": "93e85d50",
   "metadata": {},
   "outputs": [
    {
     "data": {
      "text/html": [
       "<style>#sk-container-id-2 {color: black;}#sk-container-id-2 pre{padding: 0;}#sk-container-id-2 div.sk-toggleable {background-color: white;}#sk-container-id-2 label.sk-toggleable__label {cursor: pointer;display: block;width: 100%;margin-bottom: 0;padding: 0.3em;box-sizing: border-box;text-align: center;}#sk-container-id-2 label.sk-toggleable__label-arrow:before {content: \"▸\";float: left;margin-right: 0.25em;color: #696969;}#sk-container-id-2 label.sk-toggleable__label-arrow:hover:before {color: black;}#sk-container-id-2 div.sk-estimator:hover label.sk-toggleable__label-arrow:before {color: black;}#sk-container-id-2 div.sk-toggleable__content {max-height: 0;max-width: 0;overflow: hidden;text-align: left;background-color: #f0f8ff;}#sk-container-id-2 div.sk-toggleable__content pre {margin: 0.2em;color: black;border-radius: 0.25em;background-color: #f0f8ff;}#sk-container-id-2 input.sk-toggleable__control:checked~div.sk-toggleable__content {max-height: 200px;max-width: 100%;overflow: auto;}#sk-container-id-2 input.sk-toggleable__control:checked~label.sk-toggleable__label-arrow:before {content: \"▾\";}#sk-container-id-2 div.sk-estimator input.sk-toggleable__control:checked~label.sk-toggleable__label {background-color: #d4ebff;}#sk-container-id-2 div.sk-label input.sk-toggleable__control:checked~label.sk-toggleable__label {background-color: #d4ebff;}#sk-container-id-2 input.sk-hidden--visually {border: 0;clip: rect(1px 1px 1px 1px);clip: rect(1px, 1px, 1px, 1px);height: 1px;margin: -1px;overflow: hidden;padding: 0;position: absolute;width: 1px;}#sk-container-id-2 div.sk-estimator {font-family: monospace;background-color: #f0f8ff;border: 1px dotted black;border-radius: 0.25em;box-sizing: border-box;margin-bottom: 0.5em;}#sk-container-id-2 div.sk-estimator:hover {background-color: #d4ebff;}#sk-container-id-2 div.sk-parallel-item::after {content: \"\";width: 100%;border-bottom: 1px solid gray;flex-grow: 1;}#sk-container-id-2 div.sk-label:hover label.sk-toggleable__label {background-color: #d4ebff;}#sk-container-id-2 div.sk-serial::before {content: \"\";position: absolute;border-left: 1px solid gray;box-sizing: border-box;top: 0;bottom: 0;left: 50%;z-index: 0;}#sk-container-id-2 div.sk-serial {display: flex;flex-direction: column;align-items: center;background-color: white;padding-right: 0.2em;padding-left: 0.2em;position: relative;}#sk-container-id-2 div.sk-item {position: relative;z-index: 1;}#sk-container-id-2 div.sk-parallel {display: flex;align-items: stretch;justify-content: center;background-color: white;position: relative;}#sk-container-id-2 div.sk-item::before, #sk-container-id-2 div.sk-parallel-item::before {content: \"\";position: absolute;border-left: 1px solid gray;box-sizing: border-box;top: 0;bottom: 0;left: 50%;z-index: -1;}#sk-container-id-2 div.sk-parallel-item {display: flex;flex-direction: column;z-index: 1;position: relative;background-color: white;}#sk-container-id-2 div.sk-parallel-item:first-child::after {align-self: flex-end;width: 50%;}#sk-container-id-2 div.sk-parallel-item:last-child::after {align-self: flex-start;width: 50%;}#sk-container-id-2 div.sk-parallel-item:only-child::after {width: 0;}#sk-container-id-2 div.sk-dashed-wrapped {border: 1px dashed gray;margin: 0 0.4em 0.5em 0.4em;box-sizing: border-box;padding-bottom: 0.4em;background-color: white;}#sk-container-id-2 div.sk-label label {font-family: monospace;font-weight: bold;display: inline-block;line-height: 1.2em;}#sk-container-id-2 div.sk-label-container {text-align: center;}#sk-container-id-2 div.sk-container {/* jupyter's `normalize.less` sets `[hidden] { display: none; }` but bootstrap.min.css set `[hidden] { display: none !important; }` so we also need the `!important` here to be able to override the default hidden behavior on the sphinx rendered scikit-learn.org. See: https://github.com/scikit-learn/scikit-learn/issues/21755 */display: inline-block !important;position: relative;}#sk-container-id-2 div.sk-text-repr-fallback {display: none;}</style><div id=\"sk-container-id-2\" class=\"sk-top-container\"><div class=\"sk-text-repr-fallback\"><pre>Ridge(alpha=0.1, max_iter=10000)</pre><b>In a Jupyter environment, please rerun this cell to show the HTML representation or trust the notebook. <br />On GitHub, the HTML representation is unable to render, please try loading this page with nbviewer.org.</b></div><div class=\"sk-container\" hidden><div class=\"sk-item\"><div class=\"sk-estimator sk-toggleable\"><input class=\"sk-toggleable__control sk-hidden--visually\" id=\"sk-estimator-id-2\" type=\"checkbox\" checked><label for=\"sk-estimator-id-2\" class=\"sk-toggleable__label sk-toggleable__label-arrow\">Ridge</label><div class=\"sk-toggleable__content\"><pre>Ridge(alpha=0.1, max_iter=10000)</pre></div></div></div></div></div>"
      ],
      "text/plain": [
       "Ridge(alpha=0.1, max_iter=10000)"
      ]
     },
     "execution_count": 38,
     "metadata": {},
     "output_type": "execute_result"
    }
   ],
   "source": [
    "#L2 regularization :\n",
    "from sklearn.linear_model import Ridge\n",
    "#alpha: regularization strength\n",
    "#max_iter: maximum number of iterations to converge\n",
    "ridge_reg = Ridge(alpha=0.1, max_iter=10000)\n",
    "ridge_reg.fit(X_train, y_train)"
   ]
  },
  {
   "cell_type": "code",
   "execution_count": 39,
   "id": "7706189b",
   "metadata": {},
   "outputs": [
    {
     "data": {
      "text/html": [
       "<style>#sk-container-id-3 {color: black;}#sk-container-id-3 pre{padding: 0;}#sk-container-id-3 div.sk-toggleable {background-color: white;}#sk-container-id-3 label.sk-toggleable__label {cursor: pointer;display: block;width: 100%;margin-bottom: 0;padding: 0.3em;box-sizing: border-box;text-align: center;}#sk-container-id-3 label.sk-toggleable__label-arrow:before {content: \"▸\";float: left;margin-right: 0.25em;color: #696969;}#sk-container-id-3 label.sk-toggleable__label-arrow:hover:before {color: black;}#sk-container-id-3 div.sk-estimator:hover label.sk-toggleable__label-arrow:before {color: black;}#sk-container-id-3 div.sk-toggleable__content {max-height: 0;max-width: 0;overflow: hidden;text-align: left;background-color: #f0f8ff;}#sk-container-id-3 div.sk-toggleable__content pre {margin: 0.2em;color: black;border-radius: 0.25em;background-color: #f0f8ff;}#sk-container-id-3 input.sk-toggleable__control:checked~div.sk-toggleable__content {max-height: 200px;max-width: 100%;overflow: auto;}#sk-container-id-3 input.sk-toggleable__control:checked~label.sk-toggleable__label-arrow:before {content: \"▾\";}#sk-container-id-3 div.sk-estimator input.sk-toggleable__control:checked~label.sk-toggleable__label {background-color: #d4ebff;}#sk-container-id-3 div.sk-label input.sk-toggleable__control:checked~label.sk-toggleable__label {background-color: #d4ebff;}#sk-container-id-3 input.sk-hidden--visually {border: 0;clip: rect(1px 1px 1px 1px);clip: rect(1px, 1px, 1px, 1px);height: 1px;margin: -1px;overflow: hidden;padding: 0;position: absolute;width: 1px;}#sk-container-id-3 div.sk-estimator {font-family: monospace;background-color: #f0f8ff;border: 1px dotted black;border-radius: 0.25em;box-sizing: border-box;margin-bottom: 0.5em;}#sk-container-id-3 div.sk-estimator:hover {background-color: #d4ebff;}#sk-container-id-3 div.sk-parallel-item::after {content: \"\";width: 100%;border-bottom: 1px solid gray;flex-grow: 1;}#sk-container-id-3 div.sk-label:hover label.sk-toggleable__label {background-color: #d4ebff;}#sk-container-id-3 div.sk-serial::before {content: \"\";position: absolute;border-left: 1px solid gray;box-sizing: border-box;top: 0;bottom: 0;left: 50%;z-index: 0;}#sk-container-id-3 div.sk-serial {display: flex;flex-direction: column;align-items: center;background-color: white;padding-right: 0.2em;padding-left: 0.2em;position: relative;}#sk-container-id-3 div.sk-item {position: relative;z-index: 1;}#sk-container-id-3 div.sk-parallel {display: flex;align-items: stretch;justify-content: center;background-color: white;position: relative;}#sk-container-id-3 div.sk-item::before, #sk-container-id-3 div.sk-parallel-item::before {content: \"\";position: absolute;border-left: 1px solid gray;box-sizing: border-box;top: 0;bottom: 0;left: 50%;z-index: -1;}#sk-container-id-3 div.sk-parallel-item {display: flex;flex-direction: column;z-index: 1;position: relative;background-color: white;}#sk-container-id-3 div.sk-parallel-item:first-child::after {align-self: flex-end;width: 50%;}#sk-container-id-3 div.sk-parallel-item:last-child::after {align-self: flex-start;width: 50%;}#sk-container-id-3 div.sk-parallel-item:only-child::after {width: 0;}#sk-container-id-3 div.sk-dashed-wrapped {border: 1px dashed gray;margin: 0 0.4em 0.5em 0.4em;box-sizing: border-box;padding-bottom: 0.4em;background-color: white;}#sk-container-id-3 div.sk-label label {font-family: monospace;font-weight: bold;display: inline-block;line-height: 1.2em;}#sk-container-id-3 div.sk-label-container {text-align: center;}#sk-container-id-3 div.sk-container {/* jupyter's `normalize.less` sets `[hidden] { display: none; }` but bootstrap.min.css set `[hidden] { display: none !important; }` so we also need the `!important` here to be able to override the default hidden behavior on the sphinx rendered scikit-learn.org. See: https://github.com/scikit-learn/scikit-learn/issues/21755 */display: inline-block !important;position: relative;}#sk-container-id-3 div.sk-text-repr-fallback {display: none;}</style><div id=\"sk-container-id-3\" class=\"sk-top-container\"><div class=\"sk-text-repr-fallback\"><pre>Lasso(alpha=0.1, max_iter=10000)</pre><b>In a Jupyter environment, please rerun this cell to show the HTML representation or trust the notebook. <br />On GitHub, the HTML representation is unable to render, please try loading this page with nbviewer.org.</b></div><div class=\"sk-container\" hidden><div class=\"sk-item\"><div class=\"sk-estimator sk-toggleable\"><input class=\"sk-toggleable__control sk-hidden--visually\" id=\"sk-estimator-id-3\" type=\"checkbox\" checked><label for=\"sk-estimator-id-3\" class=\"sk-toggleable__label sk-toggleable__label-arrow\">Lasso</label><div class=\"sk-toggleable__content\"><pre>Lasso(alpha=0.1, max_iter=10000)</pre></div></div></div></div></div>"
      ],
      "text/plain": [
       "Lasso(alpha=0.1, max_iter=10000)"
      ]
     },
     "execution_count": 39,
     "metadata": {},
     "output_type": "execute_result"
    }
   ],
   "source": [
    "lasso_reg"
   ]
  },
  {
   "cell_type": "code",
   "execution_count": 42,
   "id": "fd921fdd",
   "metadata": {},
   "outputs": [
    {
     "name": "stdout",
     "output_type": "stream",
     "text": [
      "R2 score:  0.546009882772352\n"
     ]
    }
   ],
   "source": [
    "#Calculate R2 Score\n",
    "\n",
    "from sklearn.metrics import r2_score\n",
    "\n",
    "r2 = r2_score(y_test, y_pred)\n",
    "print('R2 score: ', r2)"
   ]
  },
  {
   "cell_type": "code",
   "execution_count": 41,
   "id": "664f1757",
   "metadata": {},
   "outputs": [
    {
     "data": {
      "image/png": "[encoded data removed]",
      "text/plain": [
       "<Figure size 640x480 with 1 Axes>"
      ]
     },
     "metadata": {},
     "output_type": "display_data"
    }
   ],
   "source": [
    "#Calculating and plotting MSE for the training set\n",
    "from sklearn.metrics import mean_squared_error\n",
    "train_mse = mean_squared_error(y_test, y_pred)\n",
    "plt.scatter(y_test, y_pred, c='blue')\n",
    "plt.plot([y_test.min(), y_test.max()], [y_test.min(), y_test.max()], 'k--', lw=2)\n",
    "plt.xlabel('True Values')\n",
    "plt.ylabel('Predicted Values')\n",
    "plt.title('Linear Regression for Training Set (MSE={:.2f})'.format(train_mse))\n",
    "plt.show()"
   ]
  },
  {
   "cell_type": "code",
   "execution_count": 43,
   "id": "7423ab15",
   "metadata": {},
   "outputs": [
    {
     "name": "stdout",
     "output_type": "stream",
     "text": [
      "R2 score:  0.546009882772352\n"
     ]
    }
   ],
   "source": [
    "#Calculate R2 Score\n",
    "\n",
    "from sklearn.metrics import r2_score\n",
    "\n",
    "r2 = r2_score(y_test, y_pred)\n",
    "print('R2 score: ', r2)"
   ]
  },
  {
   "cell_type": "markdown",
   "id": "61e37781",
   "metadata": {},
   "source": [
    "### Prediction of X values of test data set"
   ]
  },
  {
   "cell_type": "code",
   "execution_count": 44,
   "id": "3f4b5bda",
   "metadata": {},
   "outputs": [],
   "source": [
    "copied_data_test = data_test.copy()"
   ]
  },
  {
   "cell_type": "code",
   "execution_count": 45,
   "id": "f963847c",
   "metadata": {},
   "outputs": [
    {
     "data": {
      "text/html": [
       "<div>\n",
       "<style scoped>\n",
       "    .dataframe tbody tr th:only-of-type {\n",
       "        vertical-align: middle;\n",
       "    }\n",
       "\n",
       "    .dataframe tbody tr th {\n",
       "        vertical-align: top;\n",
       "    }\n",
       "\n",
       "    .dataframe thead th {\n",
       "        text-align: right;\n",
       "    }\n",
       "</style>\n",
       "<table border=\"1\" class=\"dataframe\">\n",
       "  <thead>\n",
       "    <tr style=\"text-align: right;\">\n",
       "      <th></th>\n",
       "      <th>Id</th>\n",
       "      <th>Seri</th>\n",
       "      <th>Model</th>\n",
       "      <th>Ilan Basligi</th>\n",
       "      <th>Yil</th>\n",
       "      <th>KM</th>\n",
       "      <th>Renk</th>\n",
       "      <th>Ilan Tarihi</th>\n",
       "      <th>Il / Ilce</th>\n",
       "    </tr>\n",
       "  </thead>\n",
       "  <tbody>\n",
       "    <tr>\n",
       "      <th>0</th>\n",
       "      <td>1</td>\n",
       "      <td>Accent Blue</td>\n",
       "      <td>1.6 CRDI Mode Plus</td>\n",
       "      <td>�NCELLER OTODAN OTOMAT?K D?ZEL ACCENT BLUE</td>\n",
       "      <td>2014</td>\n",
       "      <td>103.500</td>\n",
       "      <td>Beyaz</td>\n",
       "      <td>22 Ocak\\n                        2020</td>\n",
       "      <td>Ad?yamanMerkez</td>\n",
       "    </tr>\n",
       "    <tr>\n",
       "      <th>1</th>\n",
       "      <td>2</td>\n",
       "      <td>Linea</td>\n",
       "      <td>1.3 Multijet Pop</td>\n",
       "      <td>MEMURDAN 2013 L?NEA1.3 MULT?JET POP 95HP EURO5</td>\n",
       "      <td>2013</td>\n",
       "      <td>160.000</td>\n",
       "      <td>Beyaz</td>\n",
       "      <td>22 Ocak\\n                        2020</td>\n",
       "      <td>HatayAntakya</td>\n",
       "    </tr>\n",
       "    <tr>\n",
       "      <th>2</th>\n",
       "      <td>3</td>\n",
       "      <td>626</td>\n",
       "      <td>2</td>\n",
       "      <td>Mazda 626 Tam Bir Aile Arac? Temiz Ekonomik S?...</td>\n",
       "      <td>1993</td>\n",
       "      <td>202.000</td>\n",
       "      <td>F�me</td>\n",
       "      <td>31 Aral?k\\n                        2019</td>\n",
       "      <td>?zmirBuca</td>\n",
       "    </tr>\n",
       "    <tr>\n",
       "      <th>3</th>\n",
       "      <td>4</td>\n",
       "      <td>3 Serisi</td>\n",
       "      <td>320i</td>\n",
       "      <td>98 SUNROOF-RECORE-SIFIR MUAYNEL? MASRAFSIZ 320...</td>\n",
       "      <td>1998</td>\n",
       "      <td>217.000</td>\n",
       "      <td>Mavi</td>\n",
       "      <td>21 Ocak\\n                        2020</td>\n",
       "      <td>KonyaEre?li</td>\n",
       "    </tr>\n",
       "    <tr>\n",
       "      <th>4</th>\n",
       "      <td>5</td>\n",
       "      <td>A4</td>\n",
       "      <td>A4 Sedan 2.0 TDI</td>\n",
       "      <td>CSN AUTODAN HATASIZ BOYASIZ SADECE 103.000KM 1...</td>\n",
       "      <td>2015</td>\n",
       "      <td>103.000</td>\n",
       "      <td>Beyaz</td>\n",
       "      <td>20 Ocak\\n                        2020</td>\n",
       "      <td>MersinYeni?ehir</td>\n",
       "    </tr>\n",
       "    <tr>\n",
       "      <th>...</th>\n",
       "      <td>...</td>\n",
       "      <td>...</td>\n",
       "      <td>...</td>\n",
       "      <td>...</td>\n",
       "      <td>...</td>\n",
       "      <td>...</td>\n",
       "      <td>...</td>\n",
       "      <td>...</td>\n",
       "      <td>...</td>\n",
       "    </tr>\n",
       "    <tr>\n",
       "      <th>2389</th>\n",
       "      <td>2390</td>\n",
       "      <td>C Serisi</td>\n",
       "      <td>C 200 d BlueTEC AMG</td>\n",
       "      <td>SERV?S BAKIMLI EN DOLUSU AMG PAKET CARL BENZ ?...</td>\n",
       "      <td>2017</td>\n",
       "      <td>84.250</td>\n",
       "      <td>Siyah</td>\n",
       "      <td>08 Ocak\\n                        2020</td>\n",
       "      <td>Ankara�ankaya</td>\n",
       "    </tr>\n",
       "    <tr>\n",
       "      <th>2390</th>\n",
       "      <td>2391</td>\n",
       "      <td>3 Serisi</td>\n",
       "      <td>316i Standart</td>\n",
       "      <td>BMW 3.16 KAZASIZ-BOYAS�IZ-SAHIBINDEN</td>\n",
       "      <td>2011</td>\n",
       "      <td>112.800</td>\n",
       "      <td>Beyaz</td>\n",
       "      <td>21 Ocak\\n                        2020</td>\n",
       "      <td>KocaeliK�rfez</td>\n",
       "    </tr>\n",
       "    <tr>\n",
       "      <th>2391</th>\n",
       "      <td>2392</td>\n",
       "      <td>5 Serisi</td>\n",
       "      <td>520i Comfort</td>\n",
       "      <td>K�LT�R OTOMOT?VDEN BORUSAN �IKI?LI 5.20</td>\n",
       "      <td>2013</td>\n",
       "      <td>101.000</td>\n",
       "      <td>Beyaz</td>\n",
       "      <td>08 Ocak\\n                        2020</td>\n",
       "      <td>ManisaTurgutlu</td>\n",
       "    </tr>\n",
       "    <tr>\n",
       "      <th>2392</th>\n",
       "      <td>2393</td>\n",
       "      <td>Primera</td>\n",
       "      <td>1.6 Special</td>\n",
       "      <td>temiz otomobil full paket</td>\n",
       "      <td>1999</td>\n",
       "      <td>360.000</td>\n",
       "      <td>G�m�? Gri</td>\n",
       "      <td>20 Ocak\\n                        2020</td>\n",
       "      <td>DenizliMerkezefendi</td>\n",
       "    </tr>\n",
       "    <tr>\n",
       "      <th>2393</th>\n",
       "      <td>2394</td>\n",
       "      <td>A3</td>\n",
       "      <td>A3 Sedan 1.6 TDI</td>\n",
       "      <td>Aykan ?stanbul'dan AUD? A3 SEDAN AMB?ANTE 1.6 ...</td>\n",
       "      <td>2015</td>\n",
       "      <td>85.415</td>\n",
       "      <td>Beyaz</td>\n",
       "      <td>20 Ocak\\n                        2020</td>\n",
       "      <td>?stanbulMaltepe</td>\n",
       "    </tr>\n",
       "  </tbody>\n",
       "</table>\n",
       "<p>2394 rows × 9 columns</p>\n",
       "</div>"
      ],
      "text/plain": [
       "        Id         Seri                Model  \\\n",
       "0        1  Accent Blue   1.6 CRDI Mode Plus   \n",
       "1        2        Linea     1.3 Multijet Pop   \n",
       "2        3          626                    2   \n",
       "3        4     3 Serisi                 320i   \n",
       "4        5           A4     A4 Sedan 2.0 TDI   \n",
       "...    ...          ...                  ...   \n",
       "2389  2390     C Serisi  C 200 d BlueTEC AMG   \n",
       "2390  2391     3 Serisi        316i Standart   \n",
       "2391  2392     5 Serisi         520i Comfort   \n",
       "2392  2393      Primera          1.6 Special   \n",
       "2393  2394           A3     A3 Sedan 1.6 TDI   \n",
       "\n",
       "                                           Ilan Basligi   Yil       KM  \\\n",
       "0            �NCELLER OTODAN OTOMAT?K D?ZEL ACCENT BLUE  2014  103.500   \n",
       "1        MEMURDAN 2013 L?NEA1.3 MULT?JET POP 95HP EURO5  2013  160.000   \n",
       "2     Mazda 626 Tam Bir Aile Arac? Temiz Ekonomik S?...  1993  202.000   \n",
       "3     98 SUNROOF-RECORE-SIFIR MUAYNEL? MASRAFSIZ 320...  1998  217.000   \n",
       "4     CSN AUTODAN HATASIZ BOYASIZ SADECE 103.000KM 1...  2015  103.000   \n",
       "...                                                 ...   ...      ...   \n",
       "2389  SERV?S BAKIMLI EN DOLUSU AMG PAKET CARL BENZ ?...  2017   84.250   \n",
       "2390               BMW 3.16 KAZASIZ-BOYAS�IZ-SAHIBINDEN  2011  112.800   \n",
       "2391            K�LT�R OTOMOT?VDEN BORUSAN �IKI?LI 5.20  2013  101.000   \n",
       "2392                          temiz otomobil full paket  1999  360.000   \n",
       "2393  Aykan ?stanbul'dan AUD? A3 SEDAN AMB?ANTE 1.6 ...  2015   85.415   \n",
       "\n",
       "           Renk                              Ilan Tarihi            Il / Ilce  \n",
       "0         Beyaz    22 Ocak\\n                        2020       Ad?yamanMerkez  \n",
       "1         Beyaz    22 Ocak\\n                        2020         HatayAntakya  \n",
       "2          F�me  31 Aral?k\\n                        2019            ?zmirBuca  \n",
       "3          Mavi    21 Ocak\\n                        2020          KonyaEre?li  \n",
       "4         Beyaz    20 Ocak\\n                        2020      MersinYeni?ehir  \n",
       "...         ...                                      ...                  ...  \n",
       "2389      Siyah    08 Ocak\\n                        2020        Ankara�ankaya  \n",
       "2390      Beyaz    21 Ocak\\n                        2020        KocaeliK�rfez  \n",
       "2391      Beyaz    08 Ocak\\n                        2020       ManisaTurgutlu  \n",
       "2392  G�m�? Gri    20 Ocak\\n                        2020  DenizliMerkezefendi  \n",
       "2393      Beyaz    20 Ocak\\n                        2020      ?stanbulMaltepe  \n",
       "\n",
       "[2394 rows x 9 columns]"
      ]
     },
     "execution_count": 45,
     "metadata": {},
     "output_type": "execute_result"
    }
   ],
   "source": [
    "data_test"
   ]
  },
  {
   "cell_type": "code",
   "execution_count": 46,
   "id": "63adf2c7",
   "metadata": {},
   "outputs": [],
   "source": [
    "data_test.drop([\"Id\", \"Seri\", \"Ilan Basligi\", \"Ilan Tarihi\", \"Il / Ilce\"], axis=1, inplace=True)"
   ]
  },
  {
   "cell_type": "code",
   "execution_count": 47,
   "id": "250d75bc",
   "metadata": {},
   "outputs": [],
   "source": [
    "#Encode the categorical variables\n",
    "#Converting \"Renk\" column to numeric data\n",
    "label_encoder = LabelEncoder()\n",
    "data_test[\"Renk\"] = label_encoder.fit_transform(data_test[\"Renk\"])\n",
    "\n",
    "\n",
    "#Converting \"Model\" column to numeric data\n",
    "label_encoder = LabelEncoder()\n",
    "data_test[\"Model\"] = label_encoder.fit_transform(data_test[\"Model\"])"
   ]
  },
  {
   "cell_type": "code",
   "execution_count": 48,
   "id": "d4f9c602",
   "metadata": {},
   "outputs": [],
   "source": [
    "scaler = StandardScaler()\n",
    "\n",
    "data_test[['Yil', 'KM']] = scaler.fit_transform(data_test[['Yil', 'KM']])"
   ]
  },
  {
   "cell_type": "code",
   "execution_count": 49,
   "id": "3e6adf3d",
   "metadata": {},
   "outputs": [],
   "source": [
    "data_test2 = np.asarray(data_test)"
   ]
  },
  {
   "cell_type": "code",
   "execution_count": 50,
   "id": "5c6f809b",
   "metadata": {},
   "outputs": [],
   "source": [
    "data_test_predicted = model.predict(data_test2)"
   ]
  },
  {
   "cell_type": "code",
   "execution_count": 51,
   "id": "41a071dd",
   "metadata": {},
   "outputs": [
    {
     "data": {
      "text/plain": [
       "array([[ 82186.67988408],\n",
       "       [ 65855.40918922],\n",
       "       [ 12096.95705561],\n",
       "       ...,\n",
       "       [ 94299.95108919],\n",
       "       [ 18552.46490306],\n",
       "       [104167.4301363 ]])"
      ]
     },
     "execution_count": 51,
     "metadata": {},
     "output_type": "execute_result"
    }
   ],
   "source": [
    "data_test_predicted"
   ]
  },
  {
   "cell_type": "code",
   "execution_count": 52,
   "id": "11aee9cb",
   "metadata": {},
   "outputs": [
    {
     "name": "stdout",
     "output_type": "stream",
     "text": [
      "[[ 82200]\n",
      " [ 65850]\n",
      " [ 12100]\n",
      " ...\n",
      " [ 94300]\n",
      " [ 18550]\n",
      " [104150]]\n"
     ]
    }
   ],
   "source": [
    "data_test_predicted = np.round(data_test_predicted/50) * 50\n",
    "\n",
    "data_test_predicted = data_test_predicted.astype(int)\n",
    "\n",
    "print(data_test_predicted)"
   ]
  },
  {
   "cell_type": "code",
   "execution_count": 53,
   "id": "796e9a97",
   "metadata": {},
   "outputs": [],
   "source": [
    "#Add the predicted prices to the new data set\n",
    "data_test[\"Fiyat\"] = data_test_predicted\n",
    "\n",
    "copied_data_test[\"Fiyat\"] = data_test_predicted\n",
    "\n",
    "\n"
   ]
  },
  {
   "cell_type": "code",
   "execution_count": 54,
   "id": "751b9906",
   "metadata": {},
   "outputs": [],
   "source": [
    "#Save the new data set with the predicted prices\n",
    "data_test.to_csv(\"new_data_with_prices.csv\", index=False)"
   ]
  },
  {
   "cell_type": "code",
   "execution_count": 55,
   "id": "3f73270b",
   "metadata": {},
   "outputs": [],
   "source": [
    "from joblib import dump"
   ]
  },
  {
   "cell_type": "code",
   "execution_count": 60,
   "id": "53df578f",
   "metadata": {},
   "outputs": [
    {
     "data": {
      "text/plain": [
       "['car.pkl']"
      ]
     },
     "execution_count": 60,
     "metadata": {},
     "output_type": "execute_result"
    }
   ],
   "source": [
    "dump(model, 'car.pkl')"
   ]
  },
  {
   "cell_type": "code",
   "execution_count": null,
   "id": "d1a35241",
   "metadata": {},
   "outputs": [],
   "source": []
  }
 ],
 "metadata": {
  "kernelspec": {
   "display_name": "conda_python3",
   "language": "python",
   "name": "conda_python3"
  },
  "language_info": {
   "codemirror_mode": {
    "name": "ipython",
    "version": 3
   },
   "file_extension": ".py",
   "mimetype": "text/x-python",
   "name": "python",
   "nbconvert_exporter": "python",
   "pygments_lexer": "ipython3",
   "version": "3.10.12"
  }
 },
 "nbformat": 4,
 "nbformat_minor": 5
}
